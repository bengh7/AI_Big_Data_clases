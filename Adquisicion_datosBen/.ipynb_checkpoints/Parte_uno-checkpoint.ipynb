{
 "cells": [
  {
   "cell_type": "markdown",
   "metadata": {},
   "source": [
    "### Actividad: Tipos de Datos y Adquisición deDatos en Python"
   ]
  },
  {
   "cell_type": "markdown",
   "metadata": {},
   "source": [
    "### Parte 1: Tipos de Datos (Estructurados y No Estructurados)\n",
    "Objetivos:\n",
    "- Comprender la diferencia entre datos estructurados y no estructurados.\n",
    "- Aprender a trabajar con ambos tipos de datos en Python."
   ]
  },
  {
   "cell_type": "markdown",
   "metadata": {},
   "source": [
    "### Instrucciones Paso a Paso"
   ]
  },
  {
   "cell_type": "markdown",
   "metadata": {},
   "source": [
    "### 1. Investigación Teórica"
   ]
  },
  {
   "cell_type": "markdown",
   "metadata": {},
   "source": [
    "### Objetivo: Investigar y entender las diferencias entre datos estructurados y no estructurados.\n"
   ]
  },
  {
   "cell_type": "markdown",
   "metadata": {},
   "source": [
    "### 1. Lee y resume la siguiente información sobre los tipos de datos:\n",
    "### Datos estructurados: Son aquellos datos organizados en un formato claro y predecible, como bases de datos o archivos CSV. Se pueden organizar en filas y columnas (tablas).\n",
    "- Datos no estructurados: Son datos que no tienen un formato específico o rígido, como textos, imágenes, videos, etc.\n",
    "### 2. Responde las siguientes preguntas en tu informe:\n",
    "- ¿Cuáles son las principales características de los datos estructurados y no estructurados?\n",
    "- ¿Cuáles son las ventajas y desventajas de trabajar con cada tipo de dato?\n",
    "- Da ejemplos de datos no estructurados más allá de texto (por ejemplo, audio o imágenes).\n",
    "- ¿Qué desafíos existen al trabajar con cada tipo de dato?"
   ]
  },
  {
   "cell_type": "markdown",
   "metadata": {},
   "source": [
    "1 Datos estructurados: Son datos organizados"
   ]
  },
  {
   "cell_type": "markdown",
   "metadata": {},
   "source": [
    "2 Datos no estructurados: Son datos sin una organización clara."
   ]
  },
  {
   "cell_type": "markdown",
   "metadata": {},
   "source": [
    "Características de los datos estructurados:\n",
    "    - Se almacenan en bases de datos relacionales\n",
    "    - Se organizan en filas y columnas\n",
    "    - Son altamente organizados\n",
    "\n",
    "Características de los datos no estructurados:\n",
    "    - No tienen una organización fija\n",
    "    - No se almacenan en bases de datos relacionales\n",
    "    - Se almacenan en formatos como Json y XML\n",
    "    - Pueden incluir vídeo, texto, imágenes,...\n"
   ]
  },
  {
   "cell_type": "markdown",
   "metadata": {},
   "source": [
    "Datos estructurados:\n",
    "    Ventajas\n",
    "        - Rapidez en la búsqueda y procesamiento de datos\n",
    "        - Alta consistencia y calidad de datos\n",
    "        - Fácil integración con sistemas analíticos\n",
    "    Desventajas\n",
    "        - Poco flexible\n",
    "Datos no estructurados\n",
    "    Ventajas\n",
    "        - Mayor flexibilidad : la falta de estructura definida de los datos los hace más flexibles, \n",
    "        portables y escalables. \n",
    "        - Información más rica: los datos no estructurados pueden ser una fuente de información más \n",
    "        rica debido a su amplia gama de fuentes."
   ]
  },
  {
   "cell_type": "markdown",
   "metadata": {},
   "source": [
    "Datos no estructurados serían:\n",
    "    - Audio\n",
    "    - Imágenes\n",
    "    - Video"
   ]
  },
  {
   "cell_type": "markdown",
   "metadata": {},
   "source": [
    "Dsafíos al Trabajar con Cada Tipo de Dato\n",
    "\n",
    "Datos Estructurados:\n",
    "    Rigidez en el almacenamiento y escalabilidad.\n",
    "    Complejidad en la modificación de esquemas de bases de datos.\n",
    "    Integración con fuentes de datos no estructurados puede ser complicada.\n",
    "\n",
    "Datos No Estructurados:\n",
    "    Requieren procesamiento avanzado para extraer información útil.\n",
    "    Mayor uso de recursos computacionales y almacenamiento.    \n",
    "    Necesidad de herramientas como Machine Learning y Big Data para análisis efectivo."
   ]
  },
  {
   "cell_type": "markdown",
   "metadata": {},
   "source": [
    "### 2. Actividad Práctica\n",
    "- Objetivo: Cargar y explorar datos estructurados y no estructurados en Python.\n",
    "### 1. Trabajando con Datos Estructurados:\n",
    "- Paso 1: Descarga un conjunto de datos en formato CSV desde un sitio web como Kaggle o datos sintéticos.\n",
    "- Paso 2: Carga el archivo CSV en un DataFrame de Pandas. Abre una terminal o un Jupyter Notebook y ejecuta el siguiente código:\n"
   ]
  },
  {
   "cell_type": "code",
   "execution_count": 4,
   "metadata": {},
   "outputs": [
    {
     "name": "stdout",
     "output_type": "stream",
     "text": [
      "    Age  Gender  Weight (kg)  Height (m) Max_BPM  Avg_BPM  Resting_BPM  \\\n",
      "0  34.0  Female         86.7        1.86     174    152.0         74.0   \n",
      "1  26.0  Female         84.7        1.83     166    156.0         73.0   \n",
      "2  22.0    Male         64.8        1.85     187    166.0         64.0   \n",
      "3  54.0  Female         75.3        1.82     187    169.0         58.0   \n",
      "4  34.0  Female         52.8        1.74     177    169.0         66.0   \n",
      "\n",
      "   Session_Duration (hours)  Calories_Burned Workout_Type  Fat_Percentage  \\\n",
      "0                      1.12            712.0     Strength            12.8   \n",
      "1                      1.00            833.0     Strength            27.9   \n",
      "2                      1.24           1678.0       Cardio            28.7   \n",
      "3                      1.45            628.0       Cardio            31.8   \n",
      "4                      1.60           1286.0     Strength            26.4   \n",
      "\n",
      "   Water_Intake (liters)  Workout_Frequency (days/week)  Experience_Level  \\\n",
      "0                    2.4                            5.0               2.0   \n",
      "1                    2.8                            5.0               2.0   \n",
      "2                    1.9                            3.0               2.0   \n",
      "3                    2.4                            4.0               1.0   \n",
      "4                    3.2                            4.0               2.0   \n",
      "\n",
      "     BMI  \n",
      "0  14.31  \n",
      "1  33.49  \n",
      "2  12.73  \n",
      "3  20.37  \n",
      "4  20.83  \n",
      "<class 'pandas.core.frame.DataFrame'>\n",
      "RangeIndex: 1800 entries, 0 to 1799\n",
      "Data columns (total 15 columns):\n",
      " #   Column                         Non-Null Count  Dtype  \n",
      "---  ------                         --------------  -----  \n",
      " 0   Age                            1790 non-null   float64\n",
      " 1   Gender                         1729 non-null   object \n",
      " 2   Weight (kg)                    1778 non-null   float64\n",
      " 3   Height (m)                     1774 non-null   float64\n",
      " 4   Max_BPM                        1779 non-null   object \n",
      " 5   Avg_BPM                        1770 non-null   float64\n",
      " 6   Resting_BPM                    1781 non-null   float64\n",
      " 7   Session_Duration (hours)       1777 non-null   float64\n",
      " 8   Calories_Burned                1777 non-null   float64\n",
      " 9   Workout_Type                   1739 non-null   object \n",
      " 10  Fat_Percentage                 1784 non-null   float64\n",
      " 11  Water_Intake (liters)          1776 non-null   float64\n",
      " 12  Workout_Frequency (days/week)  1742 non-null   float64\n",
      " 13  Experience_Level               1743 non-null   float64\n",
      " 14  BMI                            1770 non-null   float64\n",
      "dtypes: float64(12), object(3)\n",
      "memory usage: 211.1+ KB\n",
      "None\n"
     ]
    }
   ],
   "source": [
    "import pandas as pd\n",
    "# Carga de archivo CSV\n",
    "df = pd.read_csv('Fitness_Tracker_Dataset.csv')\n",
    "# Ver las primeras filas\n",
    "print(df.head())\n",
    "# Información general del DataFrame\n",
    "print(df.info())\n"
   ]
  },
  {
   "cell_type": "markdown",
   "metadata": {},
   "source": [
    "### 2. Trabajando con Datos No Estructurados (Texto):\n",
    "- Paso 1: Descarga un archivo de texto (puede ser un archivo de tweets o comentarios en un foro).\n",
    "- Paso 2: Carga el archivo de texto en Python y realiza un análisis simple. Puedes usar el siguiente código:"
   ]
  },
  {
   "cell_type": "code",
   "execution_count": 6,
   "metadata": {},
   "outputs": [
    {
     "name": "stdout",
     "output_type": "stream",
     "text": [
      "Lorem ipsum dolor sit amet consectetur adipiscing elit, habitasse suscipit iaculis venenatis ridiculus dignissim nullam ligula, libero diam phasellus quam nostra porta. Integer molestie vehicula tellus ullamcorper egestas torquent tincidunt nunc id vel, dictum tristique velit risus luctus parturient conubia cubilia aenean litora, placerat dapibus sollicitudin nam mattis maecenas nec fusce rhoncus. Sociosqu lectus laoreet blandit senectus magnis, aliquet consequat tortor purus taciti, hac quis po\n"
     ]
    }
   ],
   "source": [
    "with open('lorem.txt', 'r') as file:\n",
    "    text_data = file.read()\n",
    "# Muestra las primeras líneas\n",
    "print(text_data[:500])\n"
   ]
  },
  {
   "cell_type": "markdown",
   "metadata": {},
   "source": [
    "- Paso 3: Usa herramientas de procesamiento de texto básicas como split() para dividir el texto en palabras:"
   ]
  },
  {
   "cell_type": "code",
   "execution_count": 7,
   "metadata": {},
   "outputs": [
    {
     "name": "stdout",
     "output_type": "stream",
     "text": [
      "['Lorem', 'ipsum', 'dolor', 'sit', 'amet', 'consectetur', 'adipiscing', 'elit,', 'habitasse', 'suscipit', 'iaculis', 'venenatis', 'ridiculus', 'dignissim', 'nullam', 'ligula,', 'libero', 'diam', 'phasellus', 'quam']\n"
     ]
    }
   ],
   "source": [
    "words = text_data.split()\n",
    "print(words[:20]) # Muestra las primeras 20 palabras"
   ]
  },
  {
   "cell_type": "markdown",
   "metadata": {},
   "source": [
    "### 3. Entregable:\n",
    "● Escribe un informe que incluya:\n",
    "- Respuestas a las preguntas teóricas.\n",
    "- El código utilizado para cargar y explorar los datos (tanto estructurados como no estructurados).\n",
    "- Una breve interpretación de los datos y cualquier hallazgo interesante que hayas observado."
   ]
  }
 ],
 "metadata": {
  "kernelspec": {
   "display_name": "Python 3 (ipykernel)",
   "language": "python",
   "name": "python3"
  },
  "language_info": {
   "codemirror_mode": {
    "name": "ipython",
    "version": 3
   },
   "file_extension": ".py",
   "mimetype": "text/x-python",
   "name": "python",
   "nbconvert_exporter": "python",
   "pygments_lexer": "ipython3",
   "version": "3.12.9"
  }
 },
 "nbformat": 4,
 "nbformat_minor": 4
}
