{
 "cells": [
  {
   "cell_type": "markdown",
   "id": "db88faa6-060f-4cd6-8fb4-2a3cd290d916",
   "metadata": {},
   "source": [
    "### Ejercicio 1: Cálculo del promedio de glucosa\n",
    "  \n",
    "Dada una lista de niveles de glucosa en sangre, calcula el promedio y determina si está dentro del rango normal (70-99 mg/dL).\n",
    "\n",
    "Datos:  \n",
    "\n",
    "- glucosa = [85, 90, 105, 80, 95]\n"
   ]
  },
  {
   "cell_type": "code",
   "execution_count": 3,
   "id": "719dcbf3-4913-479c-bad2-4119bad8ad7d",
   "metadata": {},
   "outputs": [
    {
     "name": "stdout",
     "output_type": "stream",
     "text": [
      "89.0\n",
      "Glucosa promedio normal\n"
     ]
    }
   ],
   "source": [
    "glucosa = [85, 90, 95, 80, 95]\n",
    "\n",
    "promedio = sum(glucosa) / len(glucosa)\n",
    "print(promedio)\n",
    "if 70 <= promedio <= 90:\n",
    "    print(\"Glucosa promedio normal\")\n",
    "else:\n",
    "    print(\"Glucosa fuera de rango\")"
   ]
  },
  {
   "cell_type": "markdown",
   "id": "75b0d4d1-dd3c-43c3-abad-7e5036356316",
   "metadata": {},
   "source": [
    "### Ejercicio 2: Clasificación de pacientes por edad\n",
    "  \n",
    "Crea una lista de edades y clasifica a los pacientes en \"Niños\", \"Adultos\" o \"Ancianos\".\n",
    "\n",
    "Datos:  \n",
    "\n",
    "- edades = [5, 23, 67, 45, 12, 78]"
   ]
  },
  {
   "cell_type": "code",
   "execution_count": 4,
   "id": "8e9dfec9-7f09-4f1e-ac84-62aa176d05b6",
   "metadata": {},
   "outputs": [
    {
     "name": "stdout",
     "output_type": "stream",
     "text": [
      "5: Niño\n",
      "23: Adulto\n",
      "67: Anciano\n",
      "45: Adulto\n",
      "12: Adulto\n",
      "78: Anciano\n"
     ]
    }
   ],
   "source": [
    "edades = [5, 23, 67, 45, 12, 78]\n",
    "\n",
    "for edad in edades:\n",
    "    if edad < 12:\n",
    "       print(f\"{edad}: Niño\")\n",
    "    elif 12 <= edad <= 60:\n",
    "       print(f\"{edad}: Adulto\")\n",
    "    else:\n",
    "        print(f\"{edad}: Anciano\")"
   ]
  },
  {
   "cell_type": "markdown",
   "id": "d0b6e006-25f0-45a3-85e3-1159b17ce114",
   "metadata": {},
   "source": [
    "### Ejercicio 3: Conteo de signos vitales anormales\n",
    " \n",
    "Dada una lista de frecuencias cardíacas, cuenta cuántas están fuera del rango normal (60-100).\n",
    "\n",
    "Datos:\n",
    "\n",
    "- frecuencias = [55, 70, 110, 85, 90, 120]\n"
   ]
  },
  {
   "cell_type": "code",
   "execution_count": 8,
   "id": "55e27ec9-3084-4147-bacd-29afd4d9e2c0",
   "metadata": {},
   "outputs": [
    {
     "name": "stdout",
     "output_type": "stream",
     "text": [
      "[55, 110, 120] fuera del rango normal 3\n"
     ]
    }
   ],
   "source": [
    "frecuencias = [55, 70, 110, 85, 90, 120]\n",
    "\n",
    "fuera_rango = [frecuencia for frecuencia in frecuencias if frecuencia < 60 or frecuencia > 100]\n",
    "print(f\"{fuera_rango} fuera del rango normal {len(fuera_rango)}\")\n"
   ]
  },
  {
   "cell_type": "markdown",
   "id": "3f43a8a7-3b14-44ed-a0cc-d5a2e22efcc4",
   "metadata": {},
   "source": [
    "### Ejercicio 4: Vacunas pendientes por paciente\n",
    "\n",
    "Dado un diccionario con vacunas recibidas por cada paciente, muestra las vacunas faltantes.\n",
    "\n",
    "Datos: \n",
    "\n",
    "\n",
    "vacunas_obligatorias = {\"Sarampión\", \"Tétanos\", \"Rubeola\"}\n",
    "pacientes = {\n",
    "    \"Paciente1\": {\"Sarampión\", \"Tétanos\"},\n",
    "    \"Paciente2\": {\"Rubeola\"},\n",
    "    \"Paciente3\": {\"Sarampión\", \"Rubeola\", \"Tétanos\"}\n",
    "}\n"
   ]
  },
  {
   "cell_type": "code",
   "execution_count": 10,
   "id": "e9510e2d-d2c3-4382-809e-4b7852c6309a",
   "metadata": {},
   "outputs": [
    {
     "name": "stdout",
     "output_type": "stream",
     "text": [
      "{'Rubeola'}\n",
      "El Paciente1 tiene estas vacunas pendientes: {'Rubeola'}\n",
      "{'Sarampión', 'Tétanos'}\n",
      "El Paciente2 tiene estas vacunas pendientes: {'Sarampión', 'Tétanos'}\n",
      "set()\n",
      "El Paciente3 tiene estas vacunas pendientes: set()\n"
     ]
    }
   ],
   "source": [
    "vacunas_obligatorias = {\"Sarampión\", \"Tétanos\", \"Rubeola\"}\n",
    "pacientes = { \"Paciente1\": {\"Sarampión\", \"Tétanos\"}, \n",
    "             \"Paciente2\": {\"Rubeola\"}, \n",
    "             \"Paciente3\": {\"Sarampión\", \"Rubeola\", \"Tétanos\"} }\n",
    "\n",
    "for paciente, recibidas in pacientes.items():\n",
    "    pendientes = vacunas_obligatorias - recibidas\n",
    "    print(f\"El {paciente} tiene estas vacunas pendientes: {pendientes}\")\n"
   ]
  },
  {
   "cell_type": "markdown",
   "id": "f2eed056-1d8b-470d-b2d7-3e7423b3ebef",
   "metadata": {},
   "source": [
    "### Ejercicio 5: Cálculo de dosis personalizada\n",
    "  \n",
    "Calcula la dosis de medicamento para múltiples pacientes basándose en su peso y edad.\n",
    "\n",
    "Datos:  \n",
    "\n",
    "\n",
    "pacientes = [\n",
    "    {\"nombre\": \"Juan\", \"edad\": 10, \"peso\": 30},\n",
    "    {\"nombre\": \"María\", \"edad\": 35, \"peso\": 60},\n",
    "    {\"nombre\": \"Pedro\", \"edad\": 70, \"peso\": 75}\n",
    "]\n",
    "\n",
    "dosis: < 12  (10 * peso)\n",
    "       13 < edad < 60 (15 * peso)\n",
    "       edad > 60  (12 * peso)"
   ]
  },
  {
   "cell_type": "code",
   "execution_count": 2,
   "id": "f9101212-6885-41e4-9d24-958121f44ed7",
   "metadata": {},
   "outputs": [
    {
     "name": "stdout",
     "output_type": "stream",
     "text": [
      "Juan tiene una dosis: 300 mg\n",
      "María tiene una dosis: 900 mg\n",
      "Pedro tiene una dosis: 900 mg\n"
     ]
    }
   ],
   "source": [
    "pacientes = [ {\"nombre\": \"Juan\",\n",
    "               \"edad\": 10,\n",
    "               \"peso\": 30\n",
    "              }, \n",
    "             {\"nombre\": \"María\",\n",
    "              \"edad\": 35,\n",
    "              \"peso\": 60\n",
    "             }, \n",
    "             {\"nombre\": \"Pedro\",\n",
    "              \"edad\": 70,\n",
    "              \"peso\": 75\n",
    "             } \n",
    "            ]\n",
    "\n",
    "for paciente in pacientes:\n",
    "    if paciente[\"edad\"] < 12:\n",
    "        dosis = 10 * paciente[\"peso\"]\n",
    "    elif 12 <= paciente[\"edad\"] < 60:\n",
    "        dosis = 15 * paciente[\"peso\"]\n",
    "    else:\n",
    "        dosis = 12 * paciente[\"peso\"]\n",
    "    print(f\"{paciente[\"nombre\"]} tiene una dosis: {dosis} mg\")"
   ]
  },
  {
   "cell_type": "markdown",
   "id": "cc86e430-125d-4b6e-b7cb-d6abfed03747",
   "metadata": {},
   "source": [
    "### Ejercicio 6: Monitoreo de temperatura corporal\n",
    "\n",
    "Evalúa si la temperatura corporal de varios pacientes está dentro del rango normal (36.1-37.2°C).\n",
    "\n",
    "Datos:  \n",
    "\n",
    "temperaturas = {\"Paciente1\": 36.5, \"Paciente2\": 38.0, \"Paciente3\": 37.0}\n"
   ]
  },
  {
   "cell_type": "code",
   "execution_count": 14,
   "id": "fdb56890-6a9b-40fd-a59a-42ff0df9d59b",
   "metadata": {},
   "outputs": [
    {
     "name": "stdout",
     "output_type": "stream",
     "text": [
      "Paciente1: temperatura normal\n",
      "Paciente2: temperatura anormal\n",
      "Paciente3: temperatura normal\n"
     ]
    }
   ],
   "source": [
    "temperaturas = {\"Paciente1\": 36.5, \"Paciente2\": 38.0, \"Paciente3\": 37.0}\n",
    "\n",
    "for paciente, temp in temperaturas.items():\n",
    "    if 36.1 <= temp <=37.2:\n",
    "        print(f\"{paciente}: temperatura normal\")\n",
    "    else:\n",
    "        print(f\"{paciente}: temperatura anormal\")"
   ]
  },
  {
   "cell_type": "markdown",
   "id": "4004064a-c13b-4dbc-9ca5-cd9722fdad05",
   "metadata": {},
   "source": [
    "### Ejercicio 7: Simulación de crecimiento bacteriano con restricciones\n",
    "\n",
    "Simula el crecimiento bacteriano hasta un límite máximo de 10,000 bacterias.\n",
    "\n",
    "Datos iniciales:  \n",
    "\n",
    "bacterias_iniciales = 100"
   ]
  },
  {
   "cell_type": "code",
   "execution_count": 17,
   "id": "7e6c53d4-e343-4078-8999-b7ecb5f29292",
   "metadata": {},
   "outputs": [
    {
     "name": "stdout",
     "output_type": "stream",
     "text": [
      "Hora: 0: 100 bacterias\n",
      "Hora: 1: 200 bacterias\n",
      "Hora: 2: 400 bacterias\n",
      "Hora: 3: 800 bacterias\n",
      "Hora: 4: 1600 bacterias\n",
      "Hora: 5: 3200 bacterias\n",
      "Hora: 6: 6400 bacterias\n",
      "Hora: 7: 12800 bacterias\n",
      "Hora: 8: 25600 bacterias\n",
      "Hora: 9: 51200 bacterias\n",
      "Límite alcanzado en 10 horas\n"
     ]
    }
   ],
   "source": [
    "bacterias_iniciales = 100\n",
    "hora = 0\n",
    "\n",
    "while bacterias_iniciales <= 100000:\n",
    "    print(f\"Hora: {hora}: {bacterias_iniciales} bacterias\")\n",
    "    bacterias_iniciales *= 2\n",
    "    hora += 1\n",
    "\n",
    "print(f\"Límite alcanzado en {hora} horas\")\n"
   ]
  },
  {
   "cell_type": "markdown",
   "id": "8982c568-9f25-47c7-8599-2c9686cd5a2c",
   "metadata": {},
   "source": [
    "### Ejercicio 8: Análisis de resultados de laboratorio\n",
    "\n",
    "Dado un diccionario con resultados de análisis, clasifica cada uno como \"Normal\" o \"Anormal\".\n",
    "\n",
    "Datos:  \n",
    "\n",
    "resultados = {\n",
    "    \"Glucosa\": 95,\n",
    "    \"Hemoglobina\": 12,\n",
    "    \"Creatinina\": 1.5\n",
    "}\n",
    "\n",
    "rangos_normales = {\n",
    "    \"Glucosa\": (70, 99),\n",
    "    \"Hemoglobina\": (11, 15),\n",
    "    \"Creatinina\": (0.6, 1.2)\n",
    "}\n"
   ]
  },
  {
   "cell_type": "code",
   "execution_count": 18,
   "id": "57d741fd-6610-42c0-b4d7-20de991ff48a",
   "metadata": {},
   "outputs": [
    {
     "name": "stdout",
     "output_type": "stream",
     "text": [
      "Glucosa está normal\n",
      "Hemoglobina está normal\n",
      "Creatinina está Anormal\n"
     ]
    }
   ],
   "source": [
    "resultados = { \"Glucosa\": 95,\n",
    "              \"Hemoglobina\": 12,\n",
    "              \"Creatinina\": 1.5 \n",
    "             }\n",
    "rangos_normales = { \"Glucosa\": (70, 99),\n",
    "                   \"Hemoglobina\": (11, 15),\n",
    "                   \"Creatinina\": (0.6, 1.2)\n",
    "                  }\n",
    "\n",
    "for prueba, valor in resultados.items():\n",
    "    rango = rangos_normales[prueba]\n",
    "    if rango[0] <= valor <=rango[1]:\n",
    "        print(f\"{prueba} está normal\")\n",
    "    else:\n",
    "        print(f\"{prueba} está Anormal\")\n",
    "    "
   ]
  },
  {
   "cell_type": "markdown",
   "id": "e2db1258-ddb9-41bf-b66c-95d26bb44db0",
   "metadata": {},
   "source": [
    "### Ejercicio 9: Asignación de tratamientos según diagnóstico\n",
    "\n",
    "Asigna un tratamiento específico según el diagnóstico de cada paciente.\n",
    "\n",
    "Datos:  \n",
    "\n",
    "diagnosticos = [\"Hipoglucemia\", \"Diabetes\", \"Prediabetes\"]\n",
    "tratamientos = {\n",
    "    \"Hipoglucemia\": \"Administrar glucosa\",\n",
    "    \"Diabetes\": \"Iniciar insulina\",\n",
    "    \"Prediabetes\": \"Cambios dietéticos\"\n",
    "}\n"
   ]
  },
  {
   "cell_type": "code",
   "execution_count": 5,
   "id": "03f8b87f-ca2e-4900-ba57-44205da43e1f",
   "metadata": {},
   "outputs": [
    {
     "name": "stdout",
     "output_type": "stream",
     "text": [
      "Hipoglucemia: Administrar glucosa\n",
      "Diabetes: Iniciar insulina\n",
      "Prediabetes: Cambios dietéticos\n",
      "COVID-19: No tiene tratamiento\n"
     ]
    }
   ],
   "source": [
    "diagnosticos = [\"Hipoglucemia\", \"Diabetes\", \"Prediabetes\", \"COVID-19\"]\n",
    "\n",
    "tratamientos = {\"Hipoglucemia\": \"Administrar glucosa\",\n",
    "                \"Diabetes\": \"Iniciar insulina\", \n",
    "                \"Prediabetes\": \"Cambios dietéticos\" \n",
    "               }\n",
    "\n",
    "for diagnostico in diagnosticos:\n",
    "    print(f\"{diagnostico}: {tratamientos.get(diagnostico, 'No tiene tratamiento')}\")    \n"
   ]
  },
  {
   "cell_type": "markdown",
   "id": "a74630e6-7cbe-4ba8-933e-3238121e8f95",
   "metadata": {},
   "source": [
    "### Ejercicio 10: Evaluación de múltiples signos vitales\n",
    "\n",
    "Evalúa varios signos vitales simultáneamente y genera un informe final. Busca anomalías en los signos vitales.\n",
    "\n",
    "- FC: 60 - 100\n",
    "- Temp: 36.1 - 37.2\n",
    "- PS: 90 - 120\n",
    "- PD: 60 - 80\n",
    "\n",
    "Datos:\n",
    "\n",
    "signos_vitales = {\n",
    "    \"Paciente1\": {\"FC\": 85, \"Temp\": 37.0, \"PS\": 110, \"PD\": 75},\n",
    "    \"Paciente2\": {\"FC\": 55, \"Temp\": 38.5, \"PS\": 140, \"PD\": 90}\n",
    "}\n"
   ]
  },
  {
   "cell_type": "code",
   "execution_count": 11,
   "id": "4ae5b2fb-140f-4ae9-8663-87479ee4be98",
   "metadata": {},
   "outputs": [
    {
     "name": "stdout",
     "output_type": "stream",
     "text": [
      "Paciente2: Resultados anormales Frecuencia cardíaca anormal,Temperatura anormal,Presión Sistólica anormal\n"
     ]
    }
   ],
   "source": [
    "signos_vitales = {\"Paciente1\": {\"FC\": 85, \"Temp\": 37.0, \"PS\": 110, \"PD\": 75},\n",
    "                  \"Paciente2\": {\"FC\": 55, \"Temp\": 38.5, \"PS\": 140, \"PD\": 80} \n",
    "                 }\n",
    "\n",
    "for paciente, valores in signos_vitales.items():\n",
    "    anomalias = []\n",
    "    if  valores[\"FC\"] < 60 or valores[\"FC\"] > 100:\n",
    "       anomalias.append(\"Frecuencia cardíaca anormal\")\n",
    "\n",
    "    if valores[\"Temp\"] < 36.1 or valores[\"Temp\"] > 37.2:\n",
    "        anomalias.append(\"Temperatura anormal\")\n",
    "\n",
    "    if valores[\"PS\"] < 90 or valores[\"PS\"] > 120:\n",
    "        anomalias.append(\"Presión Sistólica anormal\")\n",
    "\n",
    "    if valores[\"PD\"] < 60 or valores[\"PD\"] > 80:\n",
    "        anomalias.append(\"Presión Diastólica anormal\")\n",
    "\n",
    "    if anomalias:\n",
    "        print(f\"{paciente}: Resultados anormales {','.join(anomalias)}\")"
   ]
  },
  {
   "cell_type": "markdown",
   "id": "0f64af9d-7537-48aa-906a-68b7600d392e",
   "metadata": {},
   "source": [
    "### Ejercicio 11: Optimización de dosis en función de múltiples factores\n",
    "\n",
    "Calcula la dosis considerando peso, edad y nivel de severidad del síntoma.\n",
    "\n",
    "Datos:  \n",
    "\n",
    "pacientes = [\n",
    "    {\"nombre\": \"Ana\", \"edad\": 8, \"peso\": 25, \"severidad\": 5},\n",
    "    {\"nombre\": \"Carlos\", \"edad\": 45, \"peso\": 70, \"severidad\": 8}\n",
    "]"
   ]
  },
  {
   "cell_type": "code",
   "execution_count": 12,
   "id": "a88e0aa2-61bc-4ef1-9a9f-bc6dae8b6071",
   "metadata": {},
   "outputs": [
    {
     "name": "stdout",
     "output_type": "stream",
     "text": [
      "Ana: Dosis = 375.0 mg\n",
      "Carlos: Dosis = 1890.0 mg\n"
     ]
    }
   ],
   "source": [
    "# calcular dosis basada en peso, edad y severidad\n",
    "def calcular_dosis(peso, edad, severidad):\n",
    "    # determinar la dosis según el peso\n",
    "    if edad < 12:\n",
    "        base = 10 # los niños reciben 10mg\n",
    "    elif 12 <= edad <= 60:\n",
    "        base = 15 # los adultos reciben 15mg\n",
    "    else:\n",
    "        base = 12 # los ancianos reciben 12mg\n",
    "\n",
    "    factor_severidad = 1 + ( severidad / 10)\n",
    "\n",
    "    return base * peso * factor_severidad\n",
    "\n",
    "# Lista de pacientes\n",
    "pacientes = [{\"nombre\": \"Ana\", \"edad\": 8, \"peso\": 25, \"severidad\": 5},\n",
    "             {\"nombre\": \"Carlos\", \"edad\": 45, \"peso\": 70, \"severidad\": 8} ]\n",
    "\n",
    "for paciente in pacientes:\n",
    "    nombre = paciente[\"nombre\"]\n",
    "    edad = paciente[\"edad\"]\n",
    "    peso = paciente[\"peso\"]\n",
    "    severidad = paciente[\"severidad\"]\n",
    "\n",
    "    dosis = calcular_dosis(peso, edad, severidad)\n",
    "\n",
    "    print(f\"{nombre}: Dosis = {dosis} mg\")"
   ]
  },
  {
   "cell_type": "markdown",
   "id": "91c5c823-dfb5-43c6-b9a7-b3fe9b3a562b",
   "metadata": {},
   "source": [
    "### Ejercicio 12: Seguimiento de evolución clínica\n",
    "\n",
    "Registra la evolución de un paciente durante varias consultas.\n",
    "\n",
    "Datos:  \n",
    "\n",
    "evolucion = [\n",
    "    {\"fecha\": \"2023-10-01\", \"glucosa\": 95, \"presion\": (110, 75)},\n",
    "    {\"fecha\": \"2023-10-05\", \"glucosa\": 100, \"presion\": (120, 80)},\n",
    "    {\"fecha\": \"2023-10-10\", \"glucosa\": 110, \"presion\": (130, 85)}\n",
    "]"
   ]
  },
  {
   "cell_type": "code",
   "execution_count": 15,
   "id": "bf7f3cc7-4f50-41dc-85b6-70374fd0e344",
   "metadata": {},
   "outputs": [
    {
     "name": "stdout",
     "output_type": "stream",
     "text": [
      "Fecha: 2023-10-01\n",
      "Glucosa: 95\n",
      "Presión Arterial: Normal\n",
      "\n",
      "Fecha: 2023-10-05\n",
      "Glucosa: 100\n",
      "Presión Arterial: Normal\n",
      "\n",
      "Fecha: 2023-10-10\n",
      "Glucosa: 110\n",
      "Presión Arterial: Anormal\n",
      "\n"
     ]
    }
   ],
   "source": [
    "# Lista de consultas con datos de evolución\n",
    "evolucion = [{\"fecha\": \"2023-10-01\", \"glucosa\": 95, \"presion\": (110, 75)}, \n",
    "             {\"fecha\": \"2023-10-05\", \"glucosa\": 100, \"presion\": (120, 80)}, \n",
    "             {\"fecha\": \"2023-10-10\", \"glucosa\": 110, \"presion\": (130, 85)} \n",
    "            ]\n",
    "\n",
    "# Iterar cada consulta\n",
    "for consulta in evolucion:\n",
    "    fecha = consulta[\"fecha\"]\n",
    "    glucosa = consulta[\"glucosa\"]\n",
    "    presion_sistolica, presion_diastolica = consulta[\"presion\"]\n",
    "    \n",
    "    # Evaluar presiones\n",
    "    if 90 <= presion_sistolica <= 120 and  60 <= presion_diastolica <=80:\n",
    "        estado_presion = \"Normal\"\n",
    "    else:\n",
    "        estado_presion = \"Anormal\"\n",
    "\n",
    "    print(f\"Fecha: {fecha}\")\n",
    "    print(f\"Glucosa: {glucosa}\")\n",
    "    print(f\"Presión Arterial: {estado_presion}\\n\")\n",
    "    \n"
   ]
  },
  {
   "cell_type": "markdown",
   "id": "5892a42e-1632-4678-9274-e8a95df306a5",
   "metadata": {},
   "source": [
    "### Ejercicio 13: Análisis de correlación entre variables\n",
    "  \n",
    "Determina si existe una correlación entre glucosa y presión arterial.\n",
    "\n",
    "Datos:  \n",
    "\n",
    "datos = [\n",
    "    {\"glucosa\": 95, \"presion\": (110, 75)},\n",
    "    {\"glucosa\": 100, \"presion\": (120, 80)},\n",
    "    {\"glucosa\": 110, \"presion\": (130, 85)}\n",
    "]"
   ]
  },
  {
   "cell_type": "code",
   "execution_count": null,
   "id": "0dca8ab4-b72d-45dc-b999-091398c8e6a6",
   "metadata": {},
   "outputs": [],
   "source": []
  },
  {
   "cell_type": "markdown",
   "id": "9bba3ac6-a44c-4047-97d4-432060110fed",
   "metadata": {},
   "source": [
    "### Ejercicio 14: Planificación de horarios de medicación\n",
    " \n",
    "Genera un horario de medicación para un paciente.\n",
    "\n",
    "Datos:  \n",
    "\n",
    "horas = [\"08:00\", \"12:00\", \"18:00\", \"22:00\"]\n",
    "medicamentos = [\"MedicamentoA\", \"MedicamentoB\"]\n"
   ]
  },
  {
   "cell_type": "code",
   "execution_count": null,
   "id": "d8b1f30a-e810-4d28-87a7-e54368d22822",
   "metadata": {},
   "outputs": [],
   "source": []
  },
  {
   "cell_type": "markdown",
   "id": "87000c11-f0f7-47b4-ab8e-44324649bc6a",
   "metadata": {},
   "source": [
    "### Ejercicio 15: Evaluación de efectividad de tratamientos\n",
    "  \n",
    "Compara la efectividad de diferentes tratamientos mediante un puntaje.\n",
    "\n",
    "Datos:  \n",
    "\n",
    "tratamientos = {\n",
    "    \"TratamientoA\": [85, 90, 95],\n",
    "    \"TratamientoB\": [70, 75, 80]\n",
    "}"
   ]
  },
  {
   "cell_type": "code",
   "execution_count": null,
   "id": "a88af64c-d89c-41a4-9f01-7d17699ea548",
   "metadata": {},
   "outputs": [],
   "source": []
  }
 ],
 "metadata": {
  "kernelspec": {
   "display_name": "Python 3 (ipykernel)",
   "language": "python",
   "name": "python3"
  },
  "language_info": {
   "codemirror_mode": {
    "name": "ipython",
    "version": 3
   },
   "file_extension": ".py",
   "mimetype": "text/x-python",
   "name": "python",
   "nbconvert_exporter": "python",
   "pygments_lexer": "ipython3",
   "version": "3.12.9"
  }
 },
 "nbformat": 4,
 "nbformat_minor": 5
}
