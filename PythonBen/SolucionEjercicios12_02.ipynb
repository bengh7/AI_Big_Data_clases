{
 "cells": [
  {
   "cell_type": "code",
   "execution_count": 5,
   "id": "a47ed366-8aa3-4344-8bb9-318d1b47715a",
   "metadata": {},
   "outputs": [
    {
     "name": "stdout",
     "output_type": "stream",
     "text": [
      "LISTA NUEVA Ordenados: ['Ana Torres', 'Juan Pérez', 'Luis Ramírez', 'María López']\n",
      "['Juan Pérez', 'María López', 'Ana Torres', 'Luis Ramírez']\n",
      "LISTA original: ['Juan Pérez', 'María López', 'Ana Torres', 'Luis Ramírez']\n",
      "Indice Maria López: 1\n"
     ]
    }
   ],
   "source": [
    "# 1 Listas: Gestión de Pacientes en una Clínica\n",
    "pacientes = [\"Juan Pérez\", \"María López\", \"Carlos Gómez\", \"Ana Torres\"]\n",
    "\n",
    "# Agregar un nuevo paciente\n",
    "pacientes.append(\"Luis Ramírez\")\n",
    "\n",
    "# Eliminar a un paciente\n",
    "pacientes.remove(\"Carlos Gómez\")\n",
    "\n",
    "# Encontrar el índice de María López\n",
    "indice_maria = pacientes.index(\"María López\")\n",
    "\n",
    "# Ordenar la lista alfabéticamente\n",
    "ordenados = sorted(pacientes)\n",
    "print(f\"LISTA NUEVA Ordenados: {ordenados}\")\n",
    "# pacientes.sort()\n",
    "print(pacientes)\n",
    "\n",
    "print(f\"LISTA original: {pacientes}\")\n",
    "print(\"Indice Maria López: \" + str(indice_maria)) # Comentario abajo "
   ]
  },
  {
   "cell_type": "markdown",
   "id": "7411ebba-1932-4851-b8c6-671979e6d07a",
   "metadata": {},
   "source": [
    "### Puedes concatenar o combinar elementos de diferentes tipos (como cadenas y números) sin necesidad de convertir explícitamente todos los valores \n",
    "1. Uso de f-strings (Python 3.6+)\n",
    "Las f-strings son una forma elegante y eficiente de formatear cadenas sin necesidad de conversiones manuales.\n",
    "\n",
    "**print(f\"Indice Maria López: {indice_maria}\")**\n",
    "\n",
    "Ventajas:\n",
    "Sintaxis limpia y legible.\n",
    "No requiere conversión explícita a str.\n",
    "\n",
    "2. Uso del método .format()\n",
    "El método .format() permite insertar valores dentro de una cadena usando marcadores {}.\n",
    "\n",
    "**print(\"Indice Maria López: {}\".format(indice_maria))**\n",
    "\n",
    "Ventajas:\n",
    "Compatible con versiones anteriores de Python (antes de Python 3.6).\n",
    "Permite personalizar el formato de los valores si es necesario.\n",
    "\n",
    "3. Uso de comas en print()\n",
    "Cuando usas comas dentro de la función print(), Python convierte automáticamente cada elemento a una cadena y los separa por espacios.\n",
    "\n",
    "**print(\"Indice Maria López:\", indice_maria)**\n",
    "\n",
    "Ventajas:\n",
    "Simple y directo.\n",
    "No requiere conversiones manuales ni preocuparse por la sintaxis de concatenación.\n",
    "\n",
    "4. Uso de % (Operador de formato de cadenas)\n",
    "Este es un método más antiguo que usa especificadores de formato similares a C.\n",
    "\n",
    "**print(\"Indice Maria López: %d\" % indice_maria)**\n",
    "\n",
    "Notas:\n",
    "%d se utiliza para enteros, %f para flotantes, %s para cadenas, etc.\n",
    "Menos recomendado en código moderno debido a que las f-strings y .format() son más versátiles."
   ]
  },
  {
   "cell_type": "code",
   "execution_count": 2,
   "id": "fa594284-0153-42df-990b-095499390884",
   "metadata": {},
   "outputs": [
    {
     "name": "stdout",
     "output_type": "stream",
     "text": [
      "Nombre: Juan Pérez\n",
      "Presión arterial: (120, 80)\n",
      "¡Alerta! Saturación de oxígeno baja\n"
     ]
    }
   ],
   "source": [
    "# 2 Tuplas: Parámetros Vitales de un Paciente\n",
    "parametros_vitales = (\"Juan Pérez\", 36.5, 120, 80, 80)\n",
    "\n",
    "# Acceder al nombre\n",
    "nombre = parametros_vitales[0]\n",
    "print(f\"Nombre: {nombre}\")\n",
    "\n",
    "# Mostrar presión arterial\n",
    "presion_arterial = parametros_vitales[2:4]\n",
    "print(f\"Presión arterial: {presion_arterial}\")\n",
    "\n",
    "# Alerta si saturación es menor a 90\n",
    "if parametros_vitales[4] < 90:\n",
    "    print(\"¡Alerta! Saturación de oxígeno baja\")\n",
    "    "
   ]
  },
  {
   "cell_type": "code",
   "execution_count": 3,
   "id": "c0caf6f2-f05c-428d-b5f4-ae7d58828a4b",
   "metadata": {},
   "outputs": [
    {
     "name": "stdout",
     "output_type": "stream",
     "text": [
      "Diagnosticos: {'influenza', 'bronquitis', 'hipertensión', 'COVID-19', 'diabetes'}\n",
      "Diagnósticos comunes paciente 2: {'COVID-19'}\n",
      "Están incluidos los diagnósticos en los registrados? True\n"
     ]
    }
   ],
   "source": [
    "# 3 Sets: Diagnósticos Únicos de Enfermedades\n",
    "diagnosticos = {\"diabetes\", \"hipertensión\", \"asma\", \"influenza\", \"COVID-19\"}\n",
    "\n",
    "# Agregar diagnóstico\n",
    "diagnosticos.add(\"bronquitis\")\n",
    "\n",
    "# Eliminar diagnóstico\n",
    "diagnosticos.remove(\"asma\")\n",
    "\n",
    "# Intersección entre dos conjuntos\n",
    "diagnosticos_paciente2 = {\"asma\", \"COVID-19\", \"gripe\"}\n",
    "comunes = diagnosticos.intersection(diagnosticos_paciente2)\n",
    "\n",
    "\n",
    "# Verificar subconjunto\n",
    "es_subconjunto = {\"diabetes\", \"hipertensión\"}.issubset(diagnosticos)\n",
    "\n",
    "print(f\"Diagnosticos: {diagnosticos}\")\n",
    "print(f\"Diagnósticos comunes paciente 2: {comunes}\")\n",
    "print(f\"Están incluidos los diagnósticos en los registrados? {es_subconjunto}\")"
   ]
  },
  {
   "cell_type": "code",
   "execution_count": 6,
   "id": "52ae67c2-03b4-4dfe-b6dc-338ffe9b4287",
   "metadata": {},
   "outputs": [
    {
     "name": "stdout",
     "output_type": "stream",
     "text": [
      "Tratamientos actualizados: {'metformina': '500 mg/día', 'enalapril': '10 mg/día', 'aspirina': '100 mg/día'}\n",
      "Contacto eliminado: {'nombre': 'Carlos López', 'teléfono': '555-1234'}\n",
      "Historia clínica actualizada: {'nombre': 'María López', 'edad': 45, 'diagnosticos': ['diabetes', 'hipertensión'], 'tratamientos': {'metformina': '500 mg/día', 'enalapril': '10 mg/día', 'aspirina': '100 mg/día'}}\n",
      "Nombre: María López, Edad: 45, Diagnósticos: diabetes, hipertensión\n",
      "El paciente está siendo tratado para hipertensión con: enalapril (10 mg/día)\n",
      "Datos clave del paciente: {'nombre': 'María López', 'edad': 45, 'diagnosticos': ['diabetes', 'hipertensión'], 'tratamientos': {'metformina': '500 mg/día', 'enalapril': '10 mg/día', 'aspirina': '100 mg/día'}}\n"
     ]
    }
   ],
   "source": [
    "# 4 Diccionarios: Historia Clínica de un Paciente\n",
    "historia_clinica = {\n",
    "    \"nombre\": \"María López\",\n",
    "    \"edad\": 45,\n",
    "    \"diagnosticos\": [\"diabetes\", \"hipertensión\"],\n",
    "    \"tratamientos\": {\"metformina\": \"500 mg/día\", \"enalapril\": \"10 mg/día\"},\n",
    "    \"contacto_emergencia\": {\"nombre\": \"Carlos López\", \"teléfono\": \"555-1234\"}\n",
    "}\n",
    "\n",
    "# Agregar un nuevo tratamiento (por ejemplo, \"aspirina\")\n",
    "nuevo_tratamiento = {\"aspirina\": \"100 mg/día\"}\n",
    "historia_clinica[\"tratamientos\"].update(nuevo_tratamiento)\n",
    "\n",
    "print(\"Tratamientos actualizados:\", historia_clinica[\"tratamientos\"])\n",
    "\n",
    "\n",
    "# Eliminar el contacto de emergencia\n",
    "contacto_eliminado = historia_clinica.pop(\"contacto_emergencia\", None)\n",
    "\n",
    "print(\"Contacto eliminado:\", contacto_eliminado)\n",
    "print(\"Historia clínica actualizada:\", historia_clinica)\n",
    "\n",
    "# Obtener información usando get()\n",
    "nombre = historia_clinica.get(\"nombre\", \"Nombre no disponible\")\n",
    "edad = historia_clinica.get(\"edad\", \"Edad no disponible\")\n",
    "diagnosticos = historia_clinica.get(\"diagnosticos\", [])\n",
    "\n",
    "# Mostrar la información\n",
    "print(f\"Nombre: {nombre}, Edad: {edad}, Diagnósticos: {', '.join(diagnosticos)}\")\n",
    "# Usamos join() para convertir la lista de diagnósticos en una cadena separada por comas.\n",
    "\n",
    "\n",
    "# Verificar si hay tratamiento para hipertensión\n",
    "for medicamento, dosis in historia_clinica[\"tratamientos\"].items():\n",
    "    if \"hipertensión\" in medicamento or \"enalapril\" in medicamento:  # Asociamos \"enalapril\" con hipertensión\n",
    "        print(f\"El paciente está siendo tratado para hipertensión con: {medicamento} ({dosis})\")\n",
    "        break\n",
    "else:\n",
    "    print(\"El paciente no tiene tratamiento específico para hipertensión.\")\n",
    "\n",
    "print(f\"Datos clave del paciente: {historia_clinica}\")\n"
   ]
  },
  {
   "cell_type": "code",
   "execution_count": 7,
   "id": "dc42d44e-e005-4615-83d8-f89dd565ab18",
   "metadata": {},
   "outputs": [
    {
     "name": "stdout",
     "output_type": "stream",
     "text": [
      "Medicamentos: ['paracetamol', 'ibuprofeno', 'metformina', 'insulina', 'paracetamol']\n",
      "Se incluye la amoxicilina: ['paracetamol', 'ibuprofeno', 'metformina', 'insulina', 'paracetamol', 'amoxicilina']\n",
      "Se elimina el indice 1: ['paracetamol', 'metformina', 'insulina', 'paracetamol', 'amoxicilina']\n",
      "Se cuenta cuantos paracetamol hay: 2\n",
      "Se ordena alfabeticamente, se crea nueva lista: ['amoxicilina', 'insulina', 'metformina', 'paracetamol', 'paracetamol']\n",
      "Lista original sin ordenar: ['paracetamol', 'metformina', 'insulina', 'paracetamol', 'amoxicilina']\n",
      "Lista original ordenada: ['amoxicilina', 'insulina', 'metformina', 'paracetamol', 'paracetamol']\n"
     ]
    }
   ],
   "source": [
    "# 5 Listas: Seguimiento de Medicamentos Administrados\n",
    "medicamentos_admin = [\"paracetamol\", \"ibuprofeno\", \"metformina\", \"insulina\", \"paracetamol\"]\n",
    "\n",
    "print(f\"Medicamentos: {medicamentos_admin}\")\n",
    "# Agregar medicamento\n",
    "medicamentos_admin.append(\"amoxicilina\")\n",
    "print(f\"Se incluye la amoxicilina: {medicamentos_admin}\")\n",
    "\n",
    "# Eliminar medicamento administrado el martes (índice 1)\n",
    "medicamentos_admin.pop(1)\n",
    "print(f\"Se elimina el indice 1: {medicamentos_admin}\")\n",
    "\n",
    "# Contar paracetamol\n",
    "conteo_paracetamol = medicamentos_admin.count(\"paracetamol\")\n",
    "print(f\"Se cuenta cuantos paracetamol hay: {conteo_paracetamol}\")\n",
    "\n",
    "# Ordenar alfabéticamente\n",
    "ordenados = sorted(medicamentos_admin)\n",
    "print(f\"Se ordena alfabeticamente, se crea nueva lista: {ordenados}\")\n",
    "print(f\"Lista original sin ordenar: {medicamentos_admin}\")\n",
    "\n",
    "# Se ordena la propia lista\n",
    "medicamentos_admin.sort()\n",
    "print(f\"Lista original ordenada: {medicamentos_admin}\")\n"
   ]
  },
  {
   "cell_type": "code",
   "execution_count": 8,
   "id": "34fde700-09c8-4ec5-876e-a710e3ac2d20",
   "metadata": {},
   "outputs": [
    {
     "name": "stdout",
     "output_type": "stream",
     "text": [
      "Medicación y dosis: ('metformina', '500 mg')\n",
      "Esta es la cantidad total de medicamentos: 3\n"
     ]
    }
   ],
   "source": [
    "# 6 Tuplas: Medicamentos y Dosis Prescritos\n",
    "medicamentos_prescritos = (\"metformina\", \"500 mg\", \"enalapril\", \"10 mg\", \"insulina\", \"20 UI\")\n",
    "\n",
    "# Acceder al medicamento \"metformina\" y su dosis\n",
    "metformina_dosis = medicamentos_prescritos[0:2] #[0:2] : Esta es la sintaxis del slicing. \n",
    "# Indica que queremos extraer una sublista desde el índice 0 hasta el índice 2, pero sin incluir el elemento en el índice 2 \n",
    "print(f\"Medicación y dosis: {metformina_dosis}\")\n",
    "\n",
    "# Cantidad total de medicamentos prescritos\n",
    "total_medicamentos = len(medicamentos_prescritos) // 2\n",
    "print(f\"Esta es la cantidad total de medicamentos: {total_medicamentos}\")\n"
   ]
  },
  {
   "cell_type": "markdown",
   "id": "893ef823-7ca9-4721-9123-542213b6aa2c",
   "metadata": {},
   "source": [
    "### **2. Cómo funciona el slicing**\n",
    "El slicing en Python sigue la estructura general:\n",
    "\n",
    "lista[inicio:fin]\n",
    "- inicio : El índice donde comienza la extracción (incluyendo este índice).\n",
    "- fin : El índice donde termina la extracción (excluyendo este índice ).\n",
    "\n",
    "En este caso:\n",
    "0: Comienza en el primer elemento (índice 0).\n",
    "2: Termina antes del tercer elemento (índice 2).\n",
    "Por lo tanto, el slicing [0:2] seleccionará los elementos en los índices \n",
    "\n",
    "\n",
    "### **4. Detalles importantes**\n",
    "- **Indices fuera de rango**: Si el índice `fin` excede el tamaño de la lista, Python no generará un error; simplemente devolverá los elementos disponibles.\n",
    "  ```python\n",
    "  medicamentos_prescritos = [\"Metformina\", \"Insulina\"]\n",
    "  metformina_dosis = medicamentos_prescritos[0:5]  # No hay problema\n",
    "  print(metformina_dosis)  # [\"Metformina\", \"Insulina\"]\n",
    "  ```\n",
    "\n",
    "- **Omisión de valores**: Puedes omitir `inicio` o `fin` si quieres comenzar desde el inicio o llegar al final.\n",
    "  - `[:2]`: Desde el inicio hasta el índice `2` (exclusivo).\n",
    "  - `[0:]`: Desde el índice `0` hasta el final.\n",
    "\n",
    "- **Slicing con paso**: También puedes agregar un tercer parámetro para especificar un \"paso\":\n",
    "  ```python\n",
    "  medicamentos_prescritos = [\"Metformina\", \"Insulina\", \"Aspirina\", \"Ibuprofeno\"]\n",
    "  metformina_dosis = medicamentos_prescritos[0:4:2]  # De 2 en 2\n",
    "  print(metformina_dosis)  # [\"Metformina\", \"Aspirina\"]\n",
    "  ```\n",
    "\n",
    "### **5. Resumen**\n",
    "La instrucción `metformina_dosis = medicamentos_prescritos[0:2]` crea una nueva lista (`metformina_dosis`) que contiene los dos primeros elementos de la lista `medicamentos_prescritos`. Es una forma rápida y eficiente de extraer subconjuntos de datos de listas u otros iterables en Python.\n"
   ]
  },
  {
   "cell_type": "code",
   "execution_count": 9,
   "id": "a6bdec18-516f-43ac-8bb0-a249acb3d4c2",
   "metadata": {},
   "outputs": [
    {
     "name": "stdout",
     "output_type": "stream",
     "text": [
      "Se agrega nueva enfermedad: {'asma', 'hipertensión', 'artritis', 'diabetes'}\n",
      "Se elimina el asma: {'hipertensión', 'artritis', 'diabetes'}\n",
      "Si tiene diábetes\n"
     ]
    }
   ],
   "source": [
    "# 7 Sets: Registro de Enfermedades Preexistentes\n",
    "enfermedades_preexistentes = {\"hipertensión\", \"asma\", \"diabetes\"}\n",
    "\n",
    "# Agregar nueva enfermedad\n",
    "enfermedades_preexistentes.add(\"artritis\")\n",
    "print(f\"Se agrega nueva enfermedad: {enfermedades_preexistentes}\")\n",
    "\n",
    "# Eliminar enfermedad\n",
    "enfermedades_preexistentes.remove(\"asma\")\n",
    "print(f\"Se elimina el asma: {enfermedades_preexistentes}\")\n",
    "\n",
    "# Verificar si tiene diabetes\n",
    "tiene_diabetes = \"diabetes\" in enfermedades_preexistentes\n",
    "if tiene_diabetes:\n",
    "    print(\"Si tiene diábetes\")\n",
    "else:\n",
    "    print(\"No tiene diábetes\")"
   ]
  },
  {
   "cell_type": "code",
   "execution_count": 10,
   "id": "fb43a9e7-31f4-476b-b9f1-a4ae95a6d474",
   "metadata": {},
   "outputs": [
    {
     "name": "stdout",
     "output_type": "stream",
     "text": [
      "Registro después de agregar 'consulta 3' para 'Juan Pérez': {'Juan Pérez': ['consulta 1', 'consulta 2', 'consulta 3'], 'María López': ['consulta 1', 'consulta 2']}\n",
      "Registro después de eliminar 'María López': {'Juan Pérez': ['consulta 1', 'consulta 2', 'consulta 3']}\n",
      "Consultas eliminadas de 'María López': ['consulta 1', 'consulta 2']\n",
      "Consultas de 'Juan Pérez': ['consulta 1', 'consulta 2', 'consulta 3']\n",
      "Todas las consultas de todos los pacientes: ['consulta 1', 'consulta 2', 'consulta 3']\n"
     ]
    }
   ],
   "source": [
    "# 8 Diccionarios: Datos de Paciente con Consultas\n",
    "pacientes_registro = {\n",
    "    \"Juan Pérez\": [\"consulta 1\", \"consulta 2\"],\n",
    "    \"María López\": [\"consulta 1\", \"consulta 2\"]\n",
    "}\n",
    "\n",
    "# Agregar \"consulta 3\" para \"Juan Pérez\"\n",
    "nueva_consulta = {\"Juan Pérez\": pacientes_registro[\"Juan Pérez\"] + [\"consulta 3\"]}\n",
    "pacientes_registro.update(nueva_consulta)\n",
    "\n",
    "print(\"Registro después de agregar 'consulta 3' para 'Juan Pérez':\", pacientes_registro)\n",
    "\n",
    "# Eliminar a \"María López\" del registro\n",
    "consultas_eliminadas = pacientes_registro.pop(\"María López\", None)\n",
    "\n",
    "print(\"Registro después de eliminar 'María López':\", pacientes_registro)\n",
    "print(\"Consultas eliminadas de 'María López':\", consultas_eliminadas)\n",
    "\n",
    "# Mostrar todas las consultas de \"Juan Pérez\"\n",
    "consultas_juan_perez = pacientes_registro.get(\"Juan Pérez\", [])\n",
    "print(\"Consultas de 'Juan Pérez':\", consultas_juan_perez)\n",
    "\n",
    "# Opcional: Mostrar todas las consultas de todos los pacientes\n",
    "todas_las_consultas = [consulta for sublist in pacientes_registro.values() for consulta in sublist]\n",
    "print(\"Todas las consultas de todos los pacientes:\", todas_las_consultas)"
   ]
  },
  {
   "cell_type": "code",
   "execution_count": 11,
   "id": "0ccd2a84-6408-48f5-84df-338f6e5e3495",
   "metadata": {},
   "outputs": [
    {
     "name": "stdout",
     "output_type": "stream",
     "text": [
      "Lista después de agregar 3 nuevos pacientes: ['Carlos Gómez', 'Ana Torres', 'Juan Pérez', 'María López', 'Luis Ramírez', 'Sofía Martínez']\n",
      "Paciente atendido: Carlos Gómez\n",
      "Lista después de eliminar al paciente atendido: ['Ana Torres', 'Juan Pérez', 'María López', 'Luis Ramírez', 'Sofía Martínez']\n",
      "Lista de pacientes en orden de llegada: ['Ana Torres', 'Juan Pérez', 'María López', 'Luis Ramírez', 'Sofía Martínez']\n"
     ]
    }
   ],
   "source": [
    "# 9 Listas: Pacientes en Espera para Consulta\n",
    "pacientes_espera = [\"Carlos Gómez\", \"Ana Torres\", \"Juan Pérez\"]\n",
    "\n",
    "# Agregar 3 nuevos pacientes: \"María López\", \"Luis Ramírez\", \"Sofía Martínez\"\n",
    "pacientes_espera.append(\"María López\")\n",
    "pacientes_espera.append(\"Luis Ramírez\")\n",
    "pacientes_espera.append(\"Sofía Martínez\")\n",
    "\n",
    "print(\"Lista después de agregar 3 nuevos pacientes:\", pacientes_espera)\n",
    "\n",
    "# Eliminar al paciente que tiene más tiempo esperando (primer elemento)\n",
    "paciente_atendido = pacientes_espera.pop(0)  # Usamos pop(0) para eliminar el primer elemento\n",
    "\n",
    "print(\"Paciente atendido:\", paciente_atendido)\n",
    "print(\"Lista después de eliminar al paciente atendido:\", pacientes_espera)\n",
    "\n",
    "# Mostrar la lista de pacientes en orden de llegada\n",
    "print(\"Lista de pacientes en orden de llegada:\", pacientes_espera)"
   ]
  },
  {
   "cell_type": "code",
   "execution_count": 12,
   "id": "49460f90-b686-4a41-a8e0-c3cf623e9a8e",
   "metadata": {},
   "outputs": [
    {
     "name": "stdout",
     "output_type": "stream",
     "text": [
      "Medicamentos recetados en cardiología: ('atenolol', 'amlodipino', 'lisinopril')\n",
      "Primer medicamento recetado en neurología: gabapentina\n"
     ]
    }
   ],
   "source": [
    "# 10 Tuplas: Medicamentos Recetados por Especialidad\n",
    "medicamentos_cardiologia = (\"atenolol\", \"amlodipino\", \"lisinopril\")\n",
    "medicamentos_neurologia = (\"gabapentina\", \"lamotrigina\")\n",
    "\n",
    "# Mostrar los medicamentos recetados en cardiología\n",
    "print(\"Medicamentos recetados en cardiología:\", medicamentos_cardiologia)\n",
    "\n",
    "## Obtener el primer medicamento recetado en neurología\n",
    "primer_medicamento_neurologia = medicamentos_neurologia[0]\n",
    "print(\"Primer medicamento recetado en neurología:\", primer_medicamento_neurologia)"
   ]
  },
  {
   "cell_type": "code",
   "execution_count": 13,
   "id": "6e0ef8b1-6a7a-4388-91d2-a22f44e18f6f",
   "metadata": {},
   "outputs": [
    {
     "name": "stdout",
     "output_type": "stream",
     "text": [
      "Diagnósticos comunes: {'hipertensión'}\n",
      "Diagnósticos exclusivos del paciente 1: {'insuficiencia renal', 'diabetes'}\n",
      "Diagnósticos exclusivos del paciente 2: {'asma', 'artritis'}\n"
     ]
    }
   ],
   "source": [
    "# 11 Sets: Diagnósticos Comunes entre Pacientes\n",
    "diagnosticos_paciente_1 = {\"diabetes\", \"hipertensión\", \"insuficiencia renal\"}\n",
    "diagnosticos_paciente_2 = {\"hipertensión\", \"asma\", \"artritis\"}\n",
    "\n",
    "# Diagnósticos comunes entre ambos pacientes\n",
    "diagnosticos_comunes = diagnosticos_paciente_1.intersection(diagnosticos_paciente_2)\n",
    "print(\"Diagnósticos comunes:\", diagnosticos_comunes)\n",
    "\n",
    "# Diagnósticos exclusivos del paciente 1\n",
    "diagnosticos_exclusivos_p1 = diagnosticos_paciente_1.difference(diagnosticos_paciente_2)\n",
    "print(\"Diagnósticos exclusivos del paciente 1:\", diagnosticos_exclusivos_p1)\n",
    "\n",
    "# Diagnósticos exclusivos del paciente 2\n",
    "diagnosticos_exclusivos_p2 = diagnosticos_paciente_2.difference(diagnosticos_paciente_1)\n",
    "print(\"Diagnósticos exclusivos del paciente 2:\", diagnosticos_exclusivos_p2)\n"
   ]
  },
  {
   "cell_type": "code",
   "execution_count": 14,
   "id": "a119f528-5f9b-435c-910a-06f8728b5df3",
   "metadata": {},
   "outputs": [
    {
     "name": "stdout",
     "output_type": "stream",
     "text": [
      "Registro después de agregar 'aspirina' a 'Juan Pérez': {'Juan Pérez': ['metformina', 'enalapril', 'aspirina'], 'María López': ['insulina', 'paracetamol', 'ibuprofeno']}\n",
      "Medicamentos recetados a 'María López': ['insulina', 'paracetamol', 'ibuprofeno']\n",
      "Paciente 'Juan Pérez' sin tratamiento complejo.\n",
      "Paciente 'María López' sin tratamiento complejo.\n",
      "Paciente 'Carlos Ramírez' sin tratamiento complejo.\n",
      "Paciente 'Ana Torres' con tratamiento complejo.\n"
     ]
    }
   ],
   "source": [
    "# 12 Diccionarios: Historial de Medicamentos de Pacientes\n",
    "medicamentos_pacientes = {\n",
    "    \"Juan Pérez\": [\"metformina\", \"enalapril\"],\n",
    "    \"María López\": [\"insulina\", \"paracetamol\", \"ibuprofeno\"]\n",
    "}\n",
    "\n",
    "# Agregar \"aspirina\" al paciente \"Juan Pérez\"\n",
    "nuevos_medicamentos_juan = medicamentos_pacientes.get(\"Juan Pérez\", []) + [\"aspirina\"]\n",
    "medicamentos_pacientes.update({\"Juan Pérez\": nuevos_medicamentos_juan})\n",
    "\n",
    "print(\"Registro después de agregar 'aspirina' a 'Juan Pérez':\", medicamentos_pacientes)\n",
    "\n",
    "# Mostrar los medicamentos recetados a \"María López\"\n",
    "medicamentos_marialopez = medicamentos_pacientes.get(\"María López\", [])\n",
    "print(\"Medicamentos recetados a 'María López':\", medicamentos_marialopez)\n",
    "\n",
    "# Diccionario inicial\n",
    "medicamentos_pacientes = {\n",
    "    \"Juan Pérez\": [\"metformina\", \"enalapril\", \"aspirina\"],\n",
    "    \"María López\": [\"insulina\", \"paracetamol\", \"ibuprofeno\"],\n",
    "    \"Carlos Ramírez\": [\"amoxicilina\"],  # Ejemplo adicional\n",
    "    \"Ana Torres\": [\"omeprazol\", \"loratadina\", \"metronidazol\", \"dipirona\"]  # Otro ejemplo\n",
    "}\n",
    "\n",
    "# Recorrer el diccionario y verificar si cada paciente tiene más de 3 medicamentos\n",
    "for paciente, medicamentos in medicamentos_pacientes.items():\n",
    "    if len(medicamentos) > 3:\n",
    "        print(f\"Paciente '{paciente}' con tratamiento complejo.\")\n",
    "    else:\n",
    "        print(f\"Paciente '{paciente}' sin tratamiento complejo.\")"
   ]
  },
  {
   "cell_type": "code",
   "execution_count": 10,
   "id": "28b21a87-2733-4c4e-8a32-18f8fdd71114",
   "metadata": {},
   "outputs": [
    {
     "name": "stdout",
     "output_type": "stream",
     "text": [
      "Lista después de añadir 3 nuevos pacientes: [(105, 'Juan Pérez'), (245, 'Carlos Gómez'), (190, 'Ana Torres'), (180, 'Luis Ramírez'), (210, 'María López'), (95, 'Sofía Martínez')]\n",
      "Lista ordenada por niveles de glucosa: [(95, 'Sofía Martínez'), (105, 'Juan Pérez'), (180, 'Luis Ramírez'), (190, 'Ana Torres'), (210, 'María López'), (245, 'Carlos Gómez')]\n",
      "Resultados con nivel de glucosa superior a 200: [(245, 'Carlos Gómez'), (210, 'María López')]\n"
     ]
    }
   ],
   "source": [
    "# 13 Listas: Seguimiento de Resultados de Laboratorio\n",
    "resultados_laboratorio = [(105, \"Juan Pérez\"), (245, \"Carlos Gómez\"), (190, \"Ana Torres\")]\n",
    "\n",
    "# Añadir resultados de 3 nuevos pacientes\n",
    "resultados_laboratorio.extend([(180, \"Luis Ramírez\"), (210, \"María López\"), (95, \"Sofía Martínez\")])\n",
    "# resultados_laboratorio.append()\n",
    "\n",
    "print(\"Lista después de añadir 3 nuevos pacientes:\", resultados_laboratorio)\n",
    "\n",
    "# Ordenar los resultados por nivel de glucosa\n",
    "\n",
    "resultados_laboratorio.sort(key=lambda x: x[0])  # Ordenar por el primer elemento de cada tupla\n",
    "# lambda : Palabra clave que indica que estamos definiendo una función anónima.\n",
    "# x : Representa cada elemento de la lista (en este caso, una tupla como (105, \"Juan Pérez\")).\n",
    "# x[0] : Accede al primer elemento de la tupla (el nivel de glucosa).\n",
    "\n",
    "\n",
    "print(\"Lista ordenada por niveles de glucosa:\", resultados_laboratorio)\n",
    "\n",
    "# Filtrar resultados donde el nivel de glucosa es superior a 200\n",
    "resultados_filtrados = [] \n",
    "for resultado in resultados_laboratorio:\n",
    "    if resultado[0] > 200:  # Verificar si el nivel de glucosa es mayor a 200\n",
    "        resultados_filtrados.append(resultado)\n",
    "\n",
    "print(\"Resultados con nivel de glucosa superior a 200:\", resultados_filtrados)"
   ]
  },
  {
   "cell_type": "code",
   "execution_count": 16,
   "id": "0ced9f3d-4776-4fb1-b32f-de9890322427",
   "metadata": {},
   "outputs": [
    {
     "name": "stdout",
     "output_type": "stream",
     "text": [
      "La consulta de Juan Pérez es el 2025-02-01.\n",
      "Juan Pérez tiene una consulta programada dentro de los próximos 7 días.\n"
     ]
    }
   ],
   "source": [
    "# 14 Tuplas: Consulta Médica con Fechas\n",
    "consultas_paciente = (\"2025-02-01\", \"Juan Pérez\")\n",
    "\n",
    "\n",
    "# Tupla con la fecha de la consulta y el nombre del paciente\n",
    "consultas_paciente = (\"2025-02-01\", \"Juan Pérez\")\n",
    "\n",
    "# 1. Acceder a la fecha de la consulta\n",
    "fecha_consulta = consultas_paciente[0]\n",
    "print(f\"La consulta de {consultas_paciente[1]} es el {fecha_consulta}.\")\n",
    "\n",
    "# 2. Verificar si la consulta está dentro de los próximos 7 días\n",
    "hoy = \"2025-01-26\"  # Supongamos que hoy es 26 de enero de 2025\n",
    "siete_dias_despues = \"2025-02-02\"  # Último día dentro del rango\n",
    "\n",
    "if hoy <= fecha_consulta <= siete_dias_despues:\n",
    "    print(f\"{consultas_paciente[1]} tiene una consulta programada dentro de los próximos 7 días.\")\n",
    "else:\n",
    "    print(f\"{consultas_paciente[1]} NO tiene una consulta programada dentro de los próximos 7 días.\")\n",
    "\n"
   ]
  },
  {
   "cell_type": "code",
   "execution_count": 6,
   "id": "5a4efd93-1d91-4c35-8807-82771a8d1f48",
   "metadata": {},
   "outputs": [
    {
     "name": "stdout",
     "output_type": "stream",
     "text": [
      "La consulta de Juan Pérez es el Saturday 01 de February 02 de 2025.\n",
      "Juan Pérez NO tiene una consulta programada dentro de los próximos 7 días.\n"
     ]
    }
   ],
   "source": [
    "# Usando la libreria datetime\n",
    "from datetime import datetime, timedelta\n",
    "\n",
    "\n",
    "# Tupla con la fecha de la consulta y el nombre del paciente\n",
    "consultas_paciente = (\"2025-02-01\", \"Juan Pérez\")\n",
    "\n",
    "# Acceder a la fecha de la consulta\n",
    "fecha_consulta_str = consultas_paciente[0]\n",
    "fecha_consulta = datetime.strptime(fecha_consulta_str, \"%Y-%m-%d\")\n",
    "print(f\"La consulta de {consultas_paciente[1]} es el {fecha_consulta.strftime('%A %d de %B %m de %Y')}.\")\n",
    "\n",
    "# Verificar si la consulta está dentro de los próximos 7 días\n",
    "hoy = datetime.today()\n",
    "siete_dias_despues = hoy + timedelta(days=7)\n",
    "\n",
    "if hoy <= fecha_consulta <= siete_dias_despues:\n",
    "    print(f\"{consultas_paciente[1]} tiene una consulta programada dentro de los próximos 7 días.\")\n",
    "else:\n",
    "    print(f\"{consultas_paciente[1]} NO tiene una consulta programada dentro de los próximos 7 días.\")\n"
   ]
  },
  {
   "cell_type": "code",
   "execution_count": 18,
   "id": "a874f651-8d37-484f-ba43-99a8f3e20ec3",
   "metadata": {},
   "outputs": [
    {
     "name": "stdout",
     "output_type": "stream",
     "text": [
      "Enfermedades comunes: {'diabetes'}\n",
      "Enfermedades exclusivas de crónicas: {'asma', 'hipertensión'}\n",
      "Enfermedades exclusivas de agudas: {'neumonía', 'influenza'}\n"
     ]
    }
   ],
   "source": [
    "# 15 Sets: Enfermedades Crónicas y Agudas\n",
    "# Definimos los conjuntos de enfermedades\n",
    "enfermedades_cronicas = {\"hipertensión\", \"diabetes\", \"asma\"}\n",
    "enfermedades_agudas = {\"influenza\", \"neumonía\", \"diabetes\"}\n",
    "\n",
    "# Encontrar enfermedades comunes\n",
    "enfermedades_comunes = enfermedades_cronicas.intersection(enfermedades_agudas)\n",
    "print(\"Enfermedades comunes:\", enfermedades_comunes)\n",
    "\n",
    "# Enfermedades exclusivas de enfermedades crónicas\n",
    "enfermedades_exclusivas_cronicas = enfermedades_cronicas.difference(enfermedades_agudas)\n",
    "print(\"Enfermedades exclusivas de crónicas:\", enfermedades_exclusivas_cronicas)\n",
    "\n",
    "# Enfermedades exclusivas de enfermedades agudas\n",
    "enfermedades_exclusivas_agudas = enfermedades_agudas.difference(enfermedades_cronicas)\n",
    "print(\"Enfermedades exclusivas de agudas:\", enfermedades_exclusivas_agudas)\n"
   ]
  },
  {
   "cell_type": "code",
   "execution_count": 19,
   "id": "0fa9cf2e-48a9-4ce5-9c28-7c96fd244175",
   "metadata": {},
   "outputs": [
    {
     "name": "stdout",
     "output_type": "stream",
     "text": [
      "Tratamientos de Juan Pérez después de añadir un medicamento: ['metformina', 'enalapril', 'aspirina']\n",
      "\n",
      "Pacientes con más de 2 medicamentos:\n",
      "Juan Pérez: ['metformina', 'enalapril', 'aspirina']\n",
      "María López: ['insulina', 'paracetamol', 'ibuprofeno']\n",
      "\n",
      "Juan Pérez tiene un tratamiento para hipertensión.\n"
     ]
    }
   ],
   "source": [
    "# 16 Diccionarios: Asignación de Medicamentos por Paciente\n",
    "\n",
    "# Diccionario con pacientes y sus tratamientos\n",
    "tratamientos_pacientes = {\n",
    "    \"Juan Pérez\": [\"metformina\", \"enalapril\"],\n",
    "    \"María López\": [\"insulina\", \"paracetamol\", \"ibuprofeno\"]\n",
    "}\n",
    "\n",
    "#  Añadir un nuevo medicamento a un paciente específico\n",
    "# Usando el método append() para agregar un nuevo medicamento a la lista de Juan Pérez\n",
    "tratamientos_pacientes[\"Juan Pérez\"].append(\"aspirina\")\n",
    "print(\"Tratamientos de Juan Pérez después de añadir un medicamento:\", tratamientos_pacientes[\"Juan Pérez\"])\n",
    "\n",
    "#  Mostrar los tratamientos de todos los pacientes con más de 2 medicamentos\n",
    "# Usamos len() para filtrar a los pacientes con más de 2 medicamentos\n",
    "print(\"\\nPacientes con más de 2 medicamentos:\")\n",
    "for paciente, medicamentos in tratamientos_pacientes.items():\n",
    "    if len(medicamentos) > 2:\n",
    "        print(f\"{paciente}: {medicamentos}\")\n",
    "\n",
    "#  Verificar si un paciente tiene un tratamiento para \"hipertensión\"\n",
    "# Usamos el método get() para verificar si \"enalapril\" está en el tratamiento de Juan Pérez\n",
    "paciente_a_verificar = \"Juan Pérez\"\n",
    "if \"enalapril\" in tratamientos_pacientes.get(paciente_a_verificar, []):\n",
    "    print(f\"\\n{paciente_a_verificar} tiene un tratamiento para hipertensión.\")\n",
    "else:\n",
    "    print(f\"\\n{paciente_a_verificar} NO tiene un tratamiento para hipertensión.\")\n"
   ]
  },
  {
   "cell_type": "code",
   "execution_count": 20,
   "id": "dc63a5da-c029-4915-af93-ec9531b4ac68",
   "metadata": {},
   "outputs": [
    {
     "name": "stdout",
     "output_type": "stream",
     "text": [
      "Lista de pacientes después de añadir a Lucía Martínez: ['Juan Pérez', 'María López', 'Carlos Gómez', 'Lucía Martínez']\n",
      "Lista de pacientes después de eliminar a María López: ['Juan Pérez', 'Carlos Gómez', 'Lucía Martínez']\n",
      "Primer paciente: Juan Pérez\n",
      "Último paciente: Lucía Martínez\n"
     ]
    }
   ],
   "source": [
    "# 17 Listas: Control de Pacientes en Sala de Espera\n",
    "# Lista de pacientes en la sala de espera\n",
    "sala_espera = [\"Juan Pérez\", \"María López\", \"Carlos Gómez\"]\n",
    "\n",
    "#  Añadir un nuevo paciente que acaba de llegar\n",
    "# Usamos el método append() para agregar un paciente al final de la lista\n",
    "sala_espera.append(\"Lucía Martínez\")\n",
    "print(\"Lista de pacientes después de añadir a Lucía Martínez:\", sala_espera)\n",
    "\n",
    "#  Eliminar al paciente que ya ha sido atendido\n",
    "# Usamos el método remove() para eliminar a un paciente de la lista\n",
    "sala_espera.remove(\"María López\")\n",
    "print(\"Lista de pacientes después de eliminar a María López:\", sala_espera)\n",
    "\n",
    "#  Mostrar el primer y el último paciente de la lista\n",
    "# Accedemos a los elementos por índice: 0 para el primero y -1 para el último\n",
    "primer_paciente = sala_espera[0]\n",
    "ultimo_paciente = sala_espera[-1]\n",
    "print(\"Primer paciente:\", primer_paciente)\n",
    "print(\"Último paciente:\", ultimo_paciente)\n"
   ]
  },
  {
   "cell_type": "code",
   "execution_count": 21,
   "id": "1ab34fc3-5f55-420a-aefe-795bdf39a67f",
   "metadata": {},
   "outputs": [
    {
     "name": "stdout",
     "output_type": "stream",
     "text": [
      "Medicamentos prescritos y su dosis:\n",
      "metformina: 500 mg\n",
      "enalapril: 10 mg\n",
      "\n",
      "La dosis de metformina no es superior a 500 mg.\n"
     ]
    }
   ],
   "source": [
    "# 18 Tuplas: Medicamentos Prescritos y Dosis\n",
    "# Tupla con medicamentos y sus respectivas dosis\n",
    "medicamentos_prescritos = (\"metformina\", \"500 mg\", \"enalapril\", \"10 mg\")\n",
    "\n",
    "#  Acceder a los medicamentos prescritos y su dosis\n",
    "# Usamos un ciclo para recorrer los elementos de la tupla y acceder a cada par medicamento-dosis\n",
    "print(\"Medicamentos prescritos y su dosis:\")\n",
    "for i in range(0, len(medicamentos_prescritos), 2):  # El paso es 2 porque cada medicamento va seguido de su dosis\n",
    "    medicamento = medicamentos_prescritos[i]\n",
    "    dosis = medicamentos_prescritos[i+1]\n",
    "    print(f\"{medicamento}: {dosis}\")\n",
    "\n",
    "#  Verificar si la dosis de \"metformina\" es superior a 500 mg\n",
    "# Accedemos a la dosis de \"metformina\" usando índices y la comparamos\n",
    "indice_metformina = medicamentos_prescritos.index(\"metformina\") + 1  # La dosis está justo después del medicamento\n",
    "dosis_metformina = medicamentos_prescritos[indice_metformina]\n",
    "\n",
    "# Convertimos la dosis a número y la comparamos\n",
    "dosis_metformina_value = int(dosis_metformina.split()[0])  # Extraemos el número antes de \"mg\"\n",
    "if dosis_metformina_value > 500:\n",
    "    print(\"\\nLa dosis de metformina es superior a 500 mg.\")\n",
    "else:\n",
    "    print(\"\\nLa dosis de metformina no es superior a 500 mg.\")\n"
   ]
  },
  {
   "cell_type": "code",
   "execution_count": 22,
   "id": "7421aab2-0ff4-4f42-8d9b-593a392a862c",
   "metadata": {},
   "outputs": [
    {
     "name": "stdout",
     "output_type": "stream",
     "text": [
      "Stock de medicamentos después de añadir amoxicilina: {'insulina', 'amoxicilina', 'ibuprofeno', 'paracetamol'}\n",
      "Stock de medicamentos después de eliminar ibuprofeno: {'insulina', 'amoxicilina', 'paracetamol'}\n",
      "\n",
      "paracetamol está en stock.\n"
     ]
    }
   ],
   "source": [
    "# 19 Sets: Medicamentos en Stock\n",
    "# Conjunto con los medicamentos disponibles en stock\n",
    "stock_medicamentos = {\"paracetamol\", \"ibuprofeno\", \"insulina\"}\n",
    "\n",
    "#  Añadir un nuevo medicamento al stock\n",
    "# Usamos el método add() para agregar un medicamento al stock\n",
    "stock_medicamentos.add(\"amoxicilina\")\n",
    "print(\"Stock de medicamentos después de añadir amoxicilina:\", stock_medicamentos)\n",
    "\n",
    "#  Eliminar un medicamento que está fuera de stock\n",
    "# Usamos el método remove() para eliminar un medicamento del stock\n",
    "stock_medicamentos.remove(\"ibuprofeno\")\n",
    "print(\"Stock de medicamentos después de eliminar ibuprofeno:\", stock_medicamentos)\n",
    "\n",
    "#  Verificar si un medicamento específico está en stock\n",
    "# Usamos la operación in para verificar si un medicamento está en el conjunto\n",
    "medicamento_a_verificar = \"paracetamol\"\n",
    "if medicamento_a_verificar in stock_medicamentos:\n",
    "    print(f\"\\n{medicamento_a_verificar} está en stock.\")\n",
    "else:\n",
    "    print(f\"\\n{medicamento_a_verificar} NO está en stock.\")\n"
   ]
  },
  {
   "cell_type": "code",
   "execution_count": 23,
   "id": "ac560a68-f641-4f4b-9e8e-82ccca3d031b",
   "metadata": {},
   "outputs": [
    {
     "name": "stdout",
     "output_type": "stream",
     "text": [
      "Pacientes atendidos por Dr. López después de añadir a Lucía Martínez: ['Juan Pérez', 'Carlos Gómez', 'Lucía Martínez']\n",
      "Pacientes atendidos por Dr. Fernández después de eliminar a Ana Torres: ['María López']\n",
      "\n",
      "Pacientes atendidos por Dr. López: ['Juan Pérez', 'Carlos Gómez', 'Lucía Martínez']\n"
     ]
    }
   ],
   "source": [
    "# 20 Diccionarios: Seguimiento de Pacientes por Médico\n",
    "# Diccionario con médicos y sus pacientes\n",
    "pacientes_medico = {\n",
    "    \"Dr. López\": [\"Juan Pérez\", \"Carlos Gómez\"],\n",
    "    \"Dr. Fernández\": [\"Ana Torres\", \"María López\"]\n",
    "}\n",
    "\n",
    "#  Añadir un nuevo paciente a la lista de un médico\n",
    "# Usamos el método update() para añadir un paciente al médico \"Dr. López\"\n",
    "pacientes_medico[\"Dr. López\"].append(\"Lucía Martínez\")\n",
    "print(\"Pacientes atendidos por Dr. López después de añadir a Lucía Martínez:\", pacientes_medico[\"Dr. López\"])\n",
    "\n",
    "#  Eliminar un paciente de la lista de un médico\n",
    "# Usamos el método pop() para eliminar un paciente de la lista del \"Dr. Fernández\"\n",
    "pacientes_medico[\"Dr. Fernández\"].remove(\"Ana Torres\")\n",
    "print(\"Pacientes atendidos por Dr. Fernández después de eliminar a Ana Torres:\", pacientes_medico[\"Dr. Fernández\"])\n",
    "\n",
    "#  Mostrar todos los pacientes atendidos por un médico específico\n",
    "# Usamos el acceso por claves para mostrar los pacientes de un médico específico\n",
    "medico_a_consultar = \"Dr. López\"\n",
    "print(f\"\\nPacientes atendidos por {medico_a_consultar}: {pacientes_medico[medico_a_consultar]}\")\n"
   ]
  }
 ],
 "metadata": {
  "kernelspec": {
   "display_name": "Python 3 (ipykernel)",
   "language": "python",
   "name": "python3"
  },
  "language_info": {
   "codemirror_mode": {
    "name": "ipython",
    "version": 3
   },
   "file_extension": ".py",
   "mimetype": "text/x-python",
   "name": "python",
   "nbconvert_exporter": "python",
   "pygments_lexer": "ipython3",
   "version": "3.12.9"
  }
 },
 "nbformat": 4,
 "nbformat_minor": 5
}
