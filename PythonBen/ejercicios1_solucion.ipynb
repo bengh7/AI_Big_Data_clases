{
 "cells": [
  {
   "cell_type": "markdown",
   "id": "86b4c31c-1cc1-43ee-ab9f-0b30c7eb5f40",
   "metadata": {},
   "source": [
    "# Ejercicios de Sintaxis y Semántica en Python"
   ]
  },
  {
   "cell_type": "markdown",
   "id": "db955f8f-974d-47e9-9fbb-b3335af0648e",
   "metadata": {},
   "source": [
    "1. Ejercicio: Asignación simple\n",
    "Enunciado: Asigna el valor 20 a una variable llamada numero e imprime su valor. Solución:"
   ]
  },
  {
   "cell_type": "code",
   "execution_count": 1,
   "id": "552d2b19-14e5-4cb8-9a57-0b80f513a183",
   "metadata": {},
   "outputs": [
    {
     "name": "stdout",
     "output_type": "stream",
     "text": [
      "20\n"
     ]
    }
   ],
   "source": [
    "numero = 20\n",
    "print(numero)"
   ]
  },
  {
   "cell_type": "markdown",
   "id": "1810bb4d-8576-451c-afc9-36c637299c51",
   "metadata": {},
   "source": [
    "2. Ejercicio: Sumar dos números\n",
    "Enunciado: Crea dos variables a = 5 y b = 3. Suma los dos números y muestra el resultado. Solución:"
   ]
  },
  {
   "cell_type": "code",
   "execution_count": 2,
   "id": "d662cb1a-4c59-4a29-a625-a96408a9ed73",
   "metadata": {},
   "outputs": [
    {
     "name": "stdout",
     "output_type": "stream",
     "text": [
      "8\n"
     ]
    }
   ],
   "source": [
    "a = 5\n",
    "b = 3\n",
    "print(a + b)"
   ]
  },
  {
   "cell_type": "markdown",
   "id": "58c84d28-21d0-4d09-be51-06f9b219e72a",
   "metadata": {},
   "source": [
    "3. Ejercicio: Concatenar cadenas\n",
    "Enunciado: Crea dos variables nombre = \"Pedro\" y apellido = \"Gómez\". Imprime el nombre completo concatenando ambas cadenas. Solución:"
   ]
  },
  {
   "cell_type": "code",
   "execution_count": 3,
   "id": "d134159e-18fb-498c-a011-504923dbfe2e",
   "metadata": {},
   "outputs": [
    {
     "name": "stdout",
     "output_type": "stream",
     "text": [
      "Pedro Gómez\n"
     ]
    }
   ],
   "source": [
    "nombre = \"Pedro\"\n",
    "apellido = \"Gómez\"\n",
    "print(nombre + \" \" + apellido)"
   ]
  },
  {
   "cell_type": "markdown",
   "id": "c12e8762-c005-45f3-84bd-aa5bb4ff74b2",
   "metadata": {},
   "source": [
    "4. Ejercicio: Uso de input\n",
    "Enunciado: Pide al usuario que ingrese su edad mediante input() y muestra un mensaje diciendo \"Tienes X años\", donde X es el valor ingresado. Solución:"
   ]
  },
  {
   "cell_type": "code",
   "execution_count": 21,
   "id": "8ca6312f-b34b-46ce-ad82-2d9befdfcf14",
   "metadata": {},
   "outputs": [
    {
     "name": "stdin",
     "output_type": "stream",
     "text": [
      "¿Cuántos años tienes?  23\n"
     ]
    },
    {
     "name": "stdout",
     "output_type": "stream",
     "text": [
      "Tienes 23 años\n"
     ]
    }
   ],
   "source": [
    "edad = input(\"¿Cuántos años tienes? \")\n",
    "print(f\"Tienes {edad} años\")"
   ]
  },
  {
   "cell_type": "markdown",
   "id": "f9536452-7f6b-43ce-904f-3238f2de8528",
   "metadata": {},
   "source": [
    "5. Ejercicio: Multiplicación\n",
    "Enunciado: Crea dos variables x = 7 y y = 9. Multiplica los valores y muestra el resultado. Solución:"
   ]
  },
  {
   "cell_type": "code",
   "execution_count": 22,
   "id": "696de522-4644-4db3-b4a7-50783ca9fad2",
   "metadata": {},
   "outputs": [
    {
     "name": "stdout",
     "output_type": "stream",
     "text": [
      "63\n"
     ]
    }
   ],
   "source": [
    "x = 7\n",
    "y = 9\n",
    "print(x * y)"
   ]
  },
  {
   "cell_type": "markdown",
   "id": "9ddc7feb-29bb-4385-bd88-e943d1683a79",
   "metadata": {},
   "source": [
    "6. Ejercicio: Lista de números\n",
    "Enunciado: Crea una lista llamada numeros que contenga los números del 1 al 5. Imprime la lista. Solución:"
   ]
  },
  {
   "cell_type": "code",
   "execution_count": 23,
   "id": "5f25b11a-42fe-4df2-aec2-ae8ae844f0dd",
   "metadata": {},
   "outputs": [
    {
     "name": "stdout",
     "output_type": "stream",
     "text": [
      "[1, 2, 3, 4, 5]\n"
     ]
    }
   ],
   "source": [
    "numeros = [1, 2, 3, 4, 5]\n",
    "print(numeros)"
   ]
  },
  {
   "cell_type": "markdown",
   "id": "f5cedc74-4ccc-49bf-a874-73c188a72709",
   "metadata": {},
   "source": [
    "7. Ejercicio: Bucle for\n",
    "Enunciado: Usa un bucle for para imprimir los números del 1 al 3. Solución:"
   ]
  },
  {
   "cell_type": "code",
   "execution_count": 24,
   "id": "e7d1b558-f99b-46ae-b797-017f26a9be6c",
   "metadata": {},
   "outputs": [
    {
     "name": "stdout",
     "output_type": "stream",
     "text": [
      "1\n",
      "2\n",
      "3\n"
     ]
    }
   ],
   "source": [
    "for i in range(1, 4):\n",
    "    print(i)"
   ]
  },
  {
   "cell_type": "markdown",
   "id": "5b4af063-64ee-413c-b76a-9baaa41ba594",
   "metadata": {},
   "source": [
    "8. Ejercicio: Sumar elementos de una lista\n",
    "Enunciado: Crea una lista valores = [10, 20, 30]. Calcula y muestra la suma de sus elementos. Solución:"
   ]
  },
  {
   "cell_type": "code",
   "execution_count": 25,
   "id": "cd7201f1-5f71-46cf-a26a-498e0c1552b7",
   "metadata": {},
   "outputs": [
    {
     "name": "stdout",
     "output_type": "stream",
     "text": [
      "60\n"
     ]
    }
   ],
   "source": [
    "valores = [10, 20, 30]\n",
    "print(sum(valores))"
   ]
  },
  {
   "cell_type": "markdown",
   "id": "6c9b376b-3405-482a-99a3-81456a385ddb",
   "metadata": {},
   "source": [
    "9. Ejercicio: Comparar dos números\n",
    "Enunciado: Crea dos variables a = 10 y b = 15. Compara si a es menor que b y muestra el resultado. Solución:"
   ]
  },
  {
   "cell_type": "code",
   "execution_count": 26,
   "id": "7916e130-9a0b-4503-bac5-18c73032fcf0",
   "metadata": {},
   "outputs": [
    {
     "name": "stdout",
     "output_type": "stream",
     "text": [
      "True\n"
     ]
    }
   ],
   "source": [
    "a = 10\n",
    "b = 15\n",
    "print(a < b)"
   ]
  },
  {
   "cell_type": "markdown",
   "id": "3bfdb293-6db8-4abd-8f2d-8d49643d2cb0",
   "metadata": {},
   "source": [
    "10. Ejercicio: Dividir dos números\n",
    "Enunciado: Crea dos variables x = 8 y y = 4. Divide x entre y y muestra el resultado. Solución:"
   ]
  },
  {
   "cell_type": "code",
   "execution_count": 27,
   "id": "816b2d27-5e07-49fb-bca7-9fe979273bf5",
   "metadata": {},
   "outputs": [
    {
     "name": "stdout",
     "output_type": "stream",
     "text": [
      "2.0\n"
     ]
    }
   ],
   "source": [
    "x = 8\n",
    "y = 4\n",
    "print(x / y)"
   ]
  },
  {
   "cell_type": "markdown",
   "id": "c9d6a85d-9ff1-45ef-a20f-db1c205c3012",
   "metadata": {},
   "source": [
    "1. Las listas son colecciones ordenadas y mutables, lo que significa que puedes modificar sus elementos, agregar nuevos o eliminarlos. Se definen con corchetes [].\n",
    "2. Las tuplas son similares a las listas, pero son inmutables, es decir, no se pueden modificar después de su creación. Se definen con paréntesis ().\n",
    "3. Los diccionarios almacenan datos en pares clave-valor, lo que permite un acceso rápido mediante la clave en lugar de índices numéricos. Se definen con llaves {}\n",
    "\n",
    "- Diferencias clave\n",
    "  - Mutabilidad: Las listas y diccionarios son mutables, mientras que las tuplas son inmutables.\n",
    "  - Acceso a elementos: En listas y tuplas se accede por índice (lista[0]), en diccionarios por clave (diccionario['nombre']).\n",
    "  - Velocidad: Las tuplas son más rápidas que las listas debido a su inmutabilidad.\n",
    "- Uso recomendado:\n",
    "  - Usa listas cuando necesites una colección ordenada y modificable.\n",
    "  - Usa tuplas si los datos no deben cambiar.\n",
    "  - Usa diccionarios si necesitas pares clave-valor para acceso rápido a la información.\n"
   ]
  },
  {
   "cell_type": "markdown",
   "id": "db444789-a07d-48e4-b2d0-7ff1f96df0d6",
   "metadata": {},
   "source": [
    "11. Ejercicio: Crear un diccionario\n",
    "Enunciado: Crea un diccionario llamado persona con las claves nombre y edad, asignando valores correspondientes, y muestra el diccionario. Solución:"
   ]
  },
  {
   "cell_type": "code",
   "execution_count": 28,
   "id": "a60f3428-8664-4284-8d8f-9352b2e0496c",
   "metadata": {},
   "outputs": [
    {
     "name": "stdout",
     "output_type": "stream",
     "text": [
      "{'nombre': 'Juan', 'edad': 30}\n"
     ]
    }
   ],
   "source": [
    "persona = {\"nombre\": \"Juan\", \"edad\": 30}\n",
    "print(persona)"
   ]
  },
  {
   "cell_type": "markdown",
   "id": "747e4d10-1020-4d65-8df2-e5165aaaab55",
   "metadata": {},
   "source": [
    "12. Ejercicio: Acceder a un valor en un diccionario\n",
    "Enunciado: Dado el diccionario persona = {\"nombre\": \"Juan\", \"edad\": 30}, accede e imprime el valor de la clave \"nombre\". Solución:"
   ]
  },
  {
   "cell_type": "code",
   "execution_count": 29,
   "id": "1e1dfdd7-5be6-4ec1-83dd-7f373b78cff0",
   "metadata": {},
   "outputs": [
    {
     "name": "stdout",
     "output_type": "stream",
     "text": [
      "Juan\n"
     ]
    }
   ],
   "source": [
    "persona = {\"nombre\": \"Juan\", \"edad\": 30}\n",
    "print(persona[\"nombre\"])"
   ]
  },
  {
   "cell_type": "markdown",
   "id": "6f6c41be-3f3c-4f80-a219-82cb74ce1c7a",
   "metadata": {},
   "source": [
    "13. Ejercicio: Imprimir un rango de números\n",
    "Enunciado: Imprime los números del 0 al 5 usando range(). Solución:"
   ]
  },
  {
   "cell_type": "code",
   "execution_count": 30,
   "id": "bbad627c-6baa-48e9-8395-0958ada2b14f",
   "metadata": {},
   "outputs": [
    {
     "name": "stdout",
     "output_type": "stream",
     "text": [
      "0\n",
      "1\n",
      "2\n",
      "3\n",
      "4\n",
      "5\n"
     ]
    }
   ],
   "source": [
    "for i in range(6):\n",
    "    print(i)"
   ]
  },
  {
   "cell_type": "markdown",
   "id": "45c22894-3d43-45f1-8ef8-898b539eff14",
   "metadata": {},
   "source": [
    "14. Ejercicio: Modificar un elemento de la lista\n",
    "Enunciado: Crea una lista colores = [\"rojo\", \"verde\", \"azul\"]. Cambia el segundo elemento a \"amarillo\" y muestra la lista. Solución:"
   ]
  },
  {
   "cell_type": "code",
   "execution_count": 14,
   "id": "0f9f3e40-38b9-4125-9b82-c706a307953e",
   "metadata": {},
   "outputs": [
    {
     "name": "stdout",
     "output_type": "stream",
     "text": [
      "['rojo', 'amarillo', 'azul']\n"
     ]
    }
   ],
   "source": [
    "colores = [\"rojo\", \"verde\", \"azul\"]\n",
    "colores[1] = \"amarillo\"\n",
    "print(colores)"
   ]
  },
  {
   "cell_type": "markdown",
   "id": "79a8e366-9e56-4c48-b2bb-2c7492497757",
   "metadata": {},
   "source": [
    "15. Ejercicio: Comprobación de tipo de datos\n",
    "Enunciado: Crea una variable x = 10 y verifica si es un número entero. Imprime \"Es un entero\" si es cierto, de lo contrario imprime \"No es un entero\". Solución:"
   ]
  },
  {
   "cell_type": "code",
   "execution_count": 15,
   "id": "fa35436f-8abd-4da2-a1f7-b74eeafba71c",
   "metadata": {},
   "outputs": [
    {
     "name": "stdout",
     "output_type": "stream",
     "text": [
      "Es un entero\n"
     ]
    }
   ],
   "source": [
    "x = 10\n",
    "if isinstance(x, int):\n",
    "    print(\"Es un entero\")\n",
    "else:\n",
    "    print(\"No es un entero\")"
   ]
  },
  {
   "cell_type": "markdown",
   "id": "e9a1dd16-5961-4d51-bc45-fea714374034",
   "metadata": {},
   "source": [
    "16. Ejercicio: Crear una función\n",
    "Enunciado: Crea una función llamada saludar que reciba un nombre como argumento y muestre un mensaje de saludo. Solución:"
   ]
  },
  {
   "cell_type": "code",
   "execution_count": 16,
   "id": "4cd1091f-2816-4094-a882-1f2d5281ebba",
   "metadata": {},
   "outputs": [
    {
     "name": "stdout",
     "output_type": "stream",
     "text": [
      "Hola, Carlos\n"
     ]
    }
   ],
   "source": [
    "def saludar(nombre):\n",
    "    print(f\"Hola, {nombre}\")\n",
    "\n",
    "saludar(\"Carlos\")  # Hola, Carlos"
   ]
  },
  {
   "cell_type": "markdown",
   "id": "696f9ed7-29e2-4c93-ad31-193c8be990c5",
   "metadata": {},
   "source": [
    "17. Ejercicio: Calcular el área de un rectángulo\n",
    "Enunciado: Crea una función area_rectangulo que reciba dos parámetros base y altura y calcule el área. Solución:"
   ]
  },
  {
   "cell_type": "code",
   "execution_count": 17,
   "id": "46f4a410-16f8-4979-bbc2-2cc93dbaa440",
   "metadata": {},
   "outputs": [
    {
     "name": "stdout",
     "output_type": "stream",
     "text": [
      "15\n"
     ]
    }
   ],
   "source": [
    "def area_rectangulo(base, altura):\n",
    "    return base * altura\n",
    "\n",
    "print(area_rectangulo(5, 3))  # 15"
   ]
  },
  {
   "cell_type": "markdown",
   "id": "fdf87f4e-95d8-453a-a97f-d72b09eb3974",
   "metadata": {},
   "source": [
    "18. Ejercicio: Eliminar un elemento de la lista\n",
    "Enunciado: Crea una lista frutas = [\"manzana\", \"plátano\", \"cereza\"]. Elimina el segundo elemento (\"plátano\") y muestra la lista resultante. Solución:"
   ]
  },
  {
   "cell_type": "code",
   "execution_count": 18,
   "id": "c2374dcc-ddaf-4f30-bfc6-0dcf26ceb862",
   "metadata": {},
   "outputs": [
    {
     "name": "stdout",
     "output_type": "stream",
     "text": [
      "['manzana', 'cereza']\n"
     ]
    }
   ],
   "source": [
    "frutas = [\"manzana\", \"plátano\", \"cereza\"]\n",
    "frutas.remove(\"plátano\")\n",
    "print(frutas)"
   ]
  },
  {
   "cell_type": "markdown",
   "id": "520fd6da-343f-42d5-a05a-157a75e9b0c2",
   "metadata": {},
   "source": [
    "19. Ejercicio: Verificar si un número es par o impar\n",
    "Enunciado: Crea una variable numero = 6 y verifica si es par o impar. Solución:"
   ]
  },
  {
   "cell_type": "code",
   "execution_count": 19,
   "id": "5f40d069-721e-42fa-a3b9-5c77f6d9b70c",
   "metadata": {},
   "outputs": [
    {
     "name": "stdout",
     "output_type": "stream",
     "text": [
      "Es par\n"
     ]
    }
   ],
   "source": [
    "numero = 6\n",
    "if numero % 2 == 0:\n",
    "    print(\"Es par\")\n",
    "else:\n",
    "    print(\"Es impar\")"
   ]
  },
  {
   "cell_type": "markdown",
   "id": "92bd8ad5-a5e5-44d0-8410-60febaf59e92",
   "metadata": {},
   "source": [
    "20. Ejercicio: Usar el operador and\n",
    "Enunciado: Crea dos variables a = 5 y b = 10. Verifica si ambas son mayores que 3 usando el operador and. Solución:"
   ]
  },
  {
   "cell_type": "code",
   "execution_count": 20,
   "id": "91a50ae1-8833-4ca4-8a47-b86afc05587c",
   "metadata": {},
   "outputs": [
    {
     "name": "stdout",
     "output_type": "stream",
     "text": [
      "Ambos son mayores que 3\n"
     ]
    }
   ],
   "source": [
    "a = 5\n",
    "b = 10\n",
    "if a > 3 and b > 3:\n",
    "    print(\"Ambos son mayores que 3\")\n",
    "else:\n",
    "    print(\"Uno o ambos no son mayores que 3\")"
   ]
  },
  {
   "cell_type": "markdown",
   "id": "b4eaf951-81bf-4df9-8685-0008f6624da1",
   "metadata": {},
   "source": [
    "### Operadores Lógicos en Python\n",
    "Los operadores lógicos en Python se utilizan para combinar expresiones condicionales y devolver valores booleanos (True o False).\n",
    "\n",
    "- and (y lógico)\n",
    "\n",
    "Devuelve True si ambas condiciones son verdaderas.\n",
    "Si la primera condición es False, ya no evalúa la segunda (cortocircuito).\n",
    "\n",
    "- or (o lógico)\n",
    "\n",
    "Devuelve True si al menos una de las condiciones es verdadera.\n",
    "Si la primera condición es True, ya no evalúa la segunda (cortocircuito).\n",
    "\n",
    "- not (negación lógica)\n",
    "\n",
    "Invierte el valor de verdad de la condición.\n",
    " "
   ]
  },
  {
   "cell_type": "code",
   "execution_count": null,
   "id": "51be6aff-ceba-45ff-97bb-4223a6fa4c70",
   "metadata": {},
   "outputs": [],
   "source": []
  }
 ],
 "metadata": {
  "kernelspec": {
   "display_name": "Python 3 (ipykernel)",
   "language": "python",
   "name": "python3"
  },
  "language_info": {
   "codemirror_mode": {
    "name": "ipython",
    "version": 3
   },
   "file_extension": ".py",
   "mimetype": "text/x-python",
   "name": "python",
   "nbconvert_exporter": "python",
   "pygments_lexer": "ipython3",
   "version": "3.9.21"
  }
 },
 "nbformat": 4,
 "nbformat_minor": 5
}
