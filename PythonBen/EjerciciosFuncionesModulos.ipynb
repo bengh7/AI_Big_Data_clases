{
 "cells": [
  {
   "cell_type": "markdown",
   "id": "3ee41b67-29f4-4f59-b9a9-79583f510ef8",
   "metadata": {},
   "source": [
    "#### 1. Suma de dos números"
   ]
  },
  {
   "cell_type": "code",
   "execution_count": 2,
   "id": "8ac3837c-6db4-41a8-885a-a6a63eaf9159",
   "metadata": {},
   "outputs": [
    {
     "name": "stdout",
     "output_type": "stream",
     "text": [
      "La suma de 5 y 4 es: 9\n"
     ]
    }
   ],
   "source": [
    "def suma(a,b):\n",
    "    \"\"\"\n",
    "    Esta función toma dos números como entrada y devuelve su suma.\n",
    "    \"\"\"\n",
    "    return a + b\n",
    "\n",
    "# ejemplo de uso\n",
    "resultado = suma(5, 4)\n",
    "print(f\"La suma de 5 y 4 es: {resultado}\")"
   ]
  },
  {
   "cell_type": "markdown",
   "id": "362d315d-3c7a-45b7-98a8-b28955e967c6",
   "metadata": {},
   "source": [
    "#### 2. Área del círculo"
   ]
  },
  {
   "cell_type": "code",
   "execution_count": 4,
   "id": "d9b4fe6b-2a95-4e88-b19b-b3375f45b0cb",
   "metadata": {},
   "outputs": [
    {
     "name": "stdout",
     "output_type": "stream",
     "text": [
      "El área del circulo con radio: 5 es: 78.54\n"
     ]
    }
   ],
   "source": [
    "import math \n",
    "\n",
    "def area_circulo(radio):\n",
    "\n",
    "    return math.pi * (radio ** 2)\n",
    "\n",
    "radio = 5\n",
    "area = area_circulo(radio)\n",
    "print(f\"El área del circulo con radio: {radio} es: {area:.2f}\")"
   ]
  },
  {
   "cell_type": "markdown",
   "id": "2ef7ca3b-21b1-4f99-951c-706a98c78d0d",
   "metadata": {},
   "source": [
    "#### 3. Inversion de una cadena "
   ]
  },
  {
   "cell_type": "code",
   "execution_count": 5,
   "id": "74bc2df4-f78b-4bf5-bd40-6c176fab073c",
   "metadata": {},
   "outputs": [
    {
     "name": "stdout",
     "output_type": "stream",
     "text": [
      "Cadena original: Python, Cadena invertida: nohtyP\n"
     ]
    }
   ],
   "source": [
    "def invertir_cadena(cadena):\n",
    "    return cadena[::-1]\n",
    "\n",
    "cadena_original = \"Python\"\n",
    "cadena_invertida = invertir_cadena(cadena_original)\n",
    "print(f\"Cadena original: {cadena_original}, Cadena invertida: {cadena_invertida}\")"
   ]
  },
  {
   "cell_type": "markdown",
   "id": "c86676a5-a70e-4a34-be31-2e2fda5cfa3e",
   "metadata": {},
   "source": [
    "### 4. Verificar si un número es par "
   ]
  },
  {
   "cell_type": "code",
   "execution_count": 7,
   "id": "8485df48-d325-46e2-99b5-9305f9cf2036",
   "metadata": {},
   "outputs": [
    {
     "name": "stdout",
     "output_type": "stream",
     "text": [
      "El número 7 no es par\n"
     ]
    }
   ],
   "source": [
    "def es_par(numero):\n",
    "    return numero % 2 == 0\n",
    "\n",
    "numero = 7\n",
    "if es_par(numero):\n",
    "    print(f\"El número {numero} es par\")\n",
    "else:\n",
    "    print(f\"El número {numero} no es par\")"
   ]
  },
  {
   "cell_type": "markdown",
   "id": "ad9355c7-3116-4354-972f-73de26340209",
   "metadata": {},
   "source": []
  }
 ],
 "metadata": {
  "kernelspec": {
   "display_name": "Python 3 (ipykernel)",
   "language": "python",
   "name": "python3"
  },
  "language_info": {
   "codemirror_mode": {
    "name": "ipython",
    "version": 3
   },
   "file_extension": ".py",
   "mimetype": "text/x-python",
   "name": "python",
   "nbconvert_exporter": "python",
   "pygments_lexer": "ipython3",
   "version": "3.12.9"
  }
 },
 "nbformat": 4,
 "nbformat_minor": 5
}
