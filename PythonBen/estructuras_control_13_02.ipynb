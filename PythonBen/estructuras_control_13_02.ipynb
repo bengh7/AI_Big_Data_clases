{
 "cells": [
  {
   "cell_type": "markdown",
   "id": "b15d343a-b203-4afc-94f3-f7551a76ba75",
   "metadata": {},
   "source": [
    "Ejercicio 1: Clasificación de pacientes según su IMC\n",
    "Descripción:  \n",
    "Desarrolla un programa que solicite al usuario ingresar su peso (en kg) y altura (en metros). Calcula el Índice de Masa Corporal (IMC) y clasifica al paciente según las siguientes categorías:\n",
    "- Menor a 18.5: Bajo peso\n",
    "- Entre 18.5 y 24.9: Peso normal\n",
    "- Entre 25 y 29.9: Sobrepeso\n",
    "- Mayor o igual a 30: Obesidad\n"
   ]
  },
  {
   "cell_type": "markdown",
   "id": "d389591e-34ed-4935-bb95-4c7c34616290",
   "metadata": {},
   "source": [
    "Ejercicio 2: Análisis de glucosa en sangre\n",
    "Descripción:  \n",
    "Un laboratorio necesita un programa que evalúe los niveles de glucosa en sangre de un paciente. Los resultados se clasifican como:\n",
    "- Menor a 70 mg/dL: Hipoglucemia\n",
    "- Entre 70 y 99 mg/dL: Nivel normal\n",
    "- Entre 100 y 125 mg/dL: Prediabetes\n",
    "- Mayor o igual a 126 mg/dL: Diabetes\n",
    "\n",
    "El programa debe pedir al usuario el nivel de glucosa y mostrar la clasificación correspondiente.\n"
   ]
  },
  {
   "cell_type": "markdown",
   "id": "5f75fdf8-7075-43e4-8f6d-563e106a6470",
   "metadata": {},
   "source": [
    "Ejercicio 3: Cálculo de dosis de medicamento\n",
    "Descripción:  \n",
    "Un médico necesita calcular la dosis de un medicamento según la edad del paciente. Las pautas son:\n",
    "- Menores de 12 años: 10 mg por cada kilogramo de peso\n",
    "- De 12 a 60 años: 15 mg por cada kilogramo de peso\n",
    "- Mayores de 60 años: 12 mg por cada kilogramo de peso\n",
    "\n",
    "El programa debe pedir la edad y el peso del paciente, y luego calcular la dosis total.\n"
   ]
  },
  {
   "cell_type": "markdown",
   "id": "cab0f46f-3eb3-43aa-b13f-d95b94cef40a",
   "metadata": {},
   "source": [
    "Ejercicio 4: Monitoreo de signos vitales\n",
    "Descripción:  \n",
    "Un sistema de monitoreo de signos vitales necesita determinar si un paciente presenta alguna anomalía. El programa debe evaluar:\n",
    "- Frecuencia cardíaca: Normal entre 60 y 100 latidos por minuto.\n",
    "- Temperatura corporal: Normal entre 36.1°C y 37.2°C.\n",
    "- Presión arterial: Normal si la sistólica está entre 90 y 120 mmHg y la diastólica entre 60 y 80 mmHg.\n",
    "\n",
    "Si cualquiera de estos valores está fuera del rango normal, el programa debe indicar qué signo vital presenta una anomalía.\n"
   ]
  },
  {
   "cell_type": "markdown",
   "id": "9685d8e7-d7f2-491e-a4c9-ad5819eb0001",
   "metadata": {},
   "source": [
    "Ejercicio 5: Seguimiento de vacunación\n",
    "Descripción:  \n",
    "Un programa debe registrar el historial de vacunación de un paciente. El usuario ingresa las vacunas recibidas hasta ahora (por ejemplo, \"Sarampión\", \"Tétanos\", \"Gripe\") y el programa verifica si falta alguna vacuna obligatoria (\"Sarampión\", \"Tétanos\", \"Rubeola\"). Si falta alguna, el programa debe indicarlo."
   ]
  },
  {
   "cell_type": "markdown",
   "id": "d71c8581-84ac-4f72-ba81-f4863097b59c",
   "metadata": {},
   "source": [
    "Ejercicio 6: Simulación de crecimiento bacteriano\n",
    "Descripción:  \n",
    "Un cultivo bacteriano crece exponencialmente. Su tamaño inicial es de 100 bacterias y se duplica cada hora. Escribe un programa que muestre el número de bacterias cada hora durante un período de 10 horas."
   ]
  }
 ],
 "metadata": {
  "kernelspec": {
   "display_name": "Python 3 (ipykernel)",
   "language": "python",
   "name": "python3"
  },
  "language_info": {
   "codemirror_mode": {
    "name": "ipython",
    "version": 3
   },
   "file_extension": ".py",
   "mimetype": "text/x-python",
   "name": "python",
   "nbconvert_exporter": "python",
   "pygments_lexer": "ipython3",
   "version": "3.9.21"
  }
 },
 "nbformat": 4,
 "nbformat_minor": 5
}
