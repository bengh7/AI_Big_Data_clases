{
 "cells": [
  {
   "cell_type": "markdown",
   "id": "05735122-9a5a-4202-89c4-6d009fb20e0c",
   "metadata": {},
   "source": [
    "## Ejercicios NumPy"
   ]
  },
  {
   "cell_type": "markdown",
   "id": "a7a31c10-7908-4c1c-905d-d62716717977",
   "metadata": {},
   "source": [
    "### Ejercicio 1: Crear Arreglos y Realizar Operaciones Básicas\n",
    "#### Instrucciones:\n",
    "- Crea un arreglo unidimensional de 5 elementos con los números: [1, 2, 3, 4, 5].\n",
    "- Crea otro arreglo unidimensional de 5 elementos con los números: [5, 4, 3, 2, 1].\n",
    "- Realiza las siguientes operaciones matemáticas:\n",
    "    - Suma\n",
    "    - Resta\n",
    "    - Multiplicación\n",
    "    - División\n",
    "    - Muestra los resultados de cada operación.\n"
   ]
  },
  {
   "cell_type": "code",
   "execution_count": null,
   "id": "c76972f6-be78-4769-ba52-475dc38adac8",
   "metadata": {},
   "outputs": [],
   "source": []
  },
  {
   "cell_type": "markdown",
   "id": "441355ab-f1a9-46b5-a267-a211a5ecedec",
   "metadata": {},
   "source": [
    "### Ejercicio 2: Slicing e Indexación Avanzada\n",
    "#### Instrucciones:\n",
    "- Crea una matriz 4x4 con los números del 1 al 16, usando np.arange y luego redimensionándola a una matriz de 4x4.\n",
    "- Realiza las siguientes operaciones:\n",
    "    - Extrae los primeros dos elementos de la primera fila.\n",
    "    - Extrae los elementos de la segunda y tercera fila, pero solo las dos últimas columnas.\n",
    "    - Cambia el valor del elemento en la tercera fila y cuarta columna a 99.\n",
    "- Muestra el arreglo modificado.\n"
   ]
  },
  {
   "cell_type": "code",
   "execution_count": null,
   "id": "a128c72a-2dbd-4608-9421-c6c229db169b",
   "metadata": {},
   "outputs": [],
   "source": []
  },
  {
   "cell_type": "markdown",
   "id": "a9f9953e-455e-41b7-bdf2-1ee8c8701719",
   "metadata": {},
   "source": [
    "### Ejercicio 3: Cálculo de Estadísticas Descriptivas\n",
    "#### Instrucciones:\n",
    "- Crea un arreglo unidimensional de 10 números aleatorios entre 1 y 100.\n",
    "- Calcula las siguientes estadísticas descriptivas:\n",
    "    - Media\n",
    "    - Mediana\n",
    "    - Desviación estándar\n",
    "    - Varianza\n",
    "- Muestra los resultados.\n"
   ]
  },
  {
   "cell_type": "code",
   "execution_count": null,
   "id": "8e27ebaf-8536-4fbf-b173-1e7827485271",
   "metadata": {},
   "outputs": [],
   "source": []
  },
  {
   "cell_type": "markdown",
   "id": "af73f185-bce9-4447-92bc-9545719a5633",
   "metadata": {},
   "source": [
    "### Ejercicio 4: Resolver un Sistema de Ecuaciones Lineales\n",
    "#### Instrucciones:\n",
    "- Resuelve el siguiente sistema de ecuaciones lineales utilizando NumPy:\n",
    "    - 2x+3y=52x + 3y = 5 4x−y=34x - y = 3\n",
    "- Escribe las matrices AA (coeficientes) y BB (resultados), y utiliza np.linalg.solve para encontrar los valores de xx y yy.\n",
    "- Muestra los resultados.\n"
   ]
  },
  {
   "cell_type": "code",
   "execution_count": null,
   "id": "795aa65b-a540-4823-a4d7-069ba17f53af",
   "metadata": {},
   "outputs": [],
   "source": []
  },
  {
   "cell_type": "markdown",
   "id": "75cbf865-5866-42b8-9b74-616d10c9f3fe",
   "metadata": {},
   "source": [
    "### Ejercicio 5: Estadísticas Descriptivas (Variación)\n",
    "Objetivo: Calcular estadísticas sobre matrices multidimensionales y realizar análisis sobre las filas y columnas por separado.\n",
    "#### Instrucciones:\n",
    "- Crea una matriz 4x5 con números aleatorios entre 1 y 100.\n",
    "- Calcula la media, mediana, desviación estándar y varianza de cada columna.\n",
    "- Calcula la media, mediana, desviación estándar y varianza de cada fila.\n",
    "- Muestra los resultados.\n"
   ]
  }
 ],
 "metadata": {
  "kernelspec": {
   "display_name": "Python 3 (ipykernel)",
   "language": "python",
   "name": "python3"
  },
  "language_info": {
   "codemirror_mode": {
    "name": "ipython",
    "version": 3
   },
   "file_extension": ".py",
   "mimetype": "text/x-python",
   "name": "python",
   "nbconvert_exporter": "python",
   "pygments_lexer": "ipython3",
   "version": "3.9.21"
  }
 },
 "nbformat": 4,
 "nbformat_minor": 5
}
