{
 "cells": [
  {
   "cell_type": "markdown",
   "id": "2a4ec74d-dcb7-41cd-aece-6a60eab49586",
   "metadata": {},
   "source": [
    "## Contexto de la Historia\n",
    "Eres parte de un equipo de científicos de datos que ha descubierto un laboratorio de investigación abandonado. El laboratorio contiene datos cruciales sobre un importante proyecto científico, pero todos los sistemas están bloqueados con puzzles basados en NumPy. Tienes 60 minutos para recuperar los datos antes de que el sistema de autodestrucción se active."
   ]
  },
  {
   "cell_type": "markdown",
   "id": "dfe1f9d7-e8ca-49f8-b096-0f688c2e354d",
   "metadata": {},
   "source": [
    "### Nivel 1: \"La Puerta de Entrada\"\n",
    "**Escenario**: Para abrir la puerta principal, necesitas demostrar tu conocimiento básico de NumPy.\n",
    "\n",
    "**Desafío 1** (3 minutos):\n",
    "```python\n",
    "# La contraseña es la suma de todos los números pares en este array\n",
    "array_secreto = np.array([1, 4, 7, 12, 15, 18, 21, 24])\n",
    "# Debes usar máscaras booleanas de NumPy para encontrarla\n",
    "```"
   ]
  },
  {
   "cell_type": "code",
   "execution_count": 1,
   "id": "1f079e90-edaf-4cd6-a016-9e0ed98a8196",
   "metadata": {},
   "outputs": [],
   "source": [
    "import numpy as np"
   ]
  },
  {
   "cell_type": "code",
   "execution_count": 3,
   "id": "6275c492-d899-4279-97c3-464f5213bb57",
   "metadata": {},
   "outputs": [],
   "source": [
    "array_secreto = np.array([1, 4, 7, 12, 15, 18, 21, 24])"
   ]
  },
  {
   "cell_type": "code",
   "execution_count": 7,
   "id": "c904f074-b207-4f56-b482-1acb414e5882",
   "metadata": {},
   "outputs": [
    {
     "data": {
      "text/plain": [
       "58"
      ]
     },
     "execution_count": 7,
     "metadata": {},
     "output_type": "execute_result"
    }
   ],
   "source": [
    "mascara = np.mod(array_secreto,2) == 0\n",
    "respuesta = np.sum(array_secreto[mascara])\n",
    "respuesta"
   ]
  },
  {
   "cell_type": "markdown",
   "id": "c6dc0fa9-c834-4181-a115-a0d7fcf91beb",
   "metadata": {},
   "source": [
    "### Nivel 2: \"La Sala de Matrices\"\n",
    "**Escenario**: Has entrado en una sala llena de pantallas mostrando matrices.\n",
    "\n",
    "**Desafío 2** (5 minutos):\n",
    "```python\n",
    "# Crea una matriz 3x3 que cuando se multiplique por sí misma\n",
    "# produzca el siguiente resultado:\n",
    "resultado = np.array([[1, 0, 0],\n",
    "                     [0, 4, 0],\n",
    "                     [0, 0, 9]])\n",
    "```"
   ]
  },
  {
   "cell_type": "code",
   "execution_count": 11,
   "id": "0df17078-608f-4663-80b6-1b42f664d5af",
   "metadata": {},
   "outputs": [],
   "source": [
    "resultado = np.array([[1, 0, 0],\n",
    "                     [0, 4, 0],\n",
    "                     [0, 0, 9]])"
   ]
  },
  {
   "cell_type": "code",
   "execution_count": 15,
   "id": "96037bfc-eafb-4d3e-9e3d-2761b975d18e",
   "metadata": {},
   "outputs": [
    {
     "data": {
      "text/plain": [
       "array([[1., 0., 0.],\n",
       "       [0., 2., 0.],\n",
       "       [0., 0., 3.]])"
      ]
     },
     "execution_count": 15,
     "metadata": {},
     "output_type": "execute_result"
    }
   ],
   "source": [
    "matriz = np.sqrt(resultado)\n",
    "matriz"
   ]
  },
  {
   "cell_type": "code",
   "execution_count": 19,
   "id": "e72f743e-b014-4e23-8f55-d6a0763c8525",
   "metadata": {},
   "outputs": [
    {
     "data": {
      "text/plain": [
       "array([[1., 0., 0.],\n",
       "       [0., 4., 0.],\n",
       "       [0., 0., 9.]])"
      ]
     },
     "execution_count": 19,
     "metadata": {},
     "output_type": "execute_result"
    }
   ],
   "source": [
    "respuesta = matriz * matriz\n",
    "respuesta"
   ]
  },
  {
   "cell_type": "markdown",
   "id": "316cd97b-6523-4ead-bc90-86bb618cf5f8",
   "metadata": {},
   "source": [
    "### Nivel 3: \"El Laboratorio de Datos\"\n",
    "**Escenario**: Encuentras un conjunto de datos experimentales que necesitan ser procesados.\n",
    "\n",
    "**Desafío 3** (7 minutos):\n",
    "```python\n",
    "# Los datos están corrompidos. Necesitas:\n",
    "# 1. Reemplazar todos los valores negativos por 0\n",
    "# 2. Normalizar los datos entre 0 y 1\n",
    "# 3. Encontrar la media de cada columna\n",
    "datos_corrompidos = np.array([\n",
    "    [-2, 15, 8, -5],\n",
    "    [10, -8, 3, 12],\n",
    "    [4, 5, -1, 9]\n",
    "])\n",
    "```"
   ]
  },
  {
   "cell_type": "code",
   "execution_count": 21,
   "id": "a57b8c82-8a20-45ec-86d0-b2dc6c86f5aa",
   "metadata": {},
   "outputs": [],
   "source": [
    "datos_corrompidos = np.array([\n",
    "    [-2, 15, 8, -5],\n",
    "    [10, -8, 3, 12],\n",
    "    [4, 5, -1, 9]\n",
    "])"
   ]
  },
  {
   "cell_type": "code",
   "execution_count": 23,
   "id": "f55d1df8-d1df-4fba-b2ce-fbde412847e4",
   "metadata": {},
   "outputs": [],
   "source": [
    "datos_limpios = np.clip(datos_corrompidos, 0, None)"
   ]
  },
  {
   "cell_type": "code",
   "execution_count": 33,
   "id": "07275de3-0a63-4939-9cbb-757f1ff6ffac",
   "metadata": {},
   "outputs": [
    {
     "data": {
      "text/plain": [
       "array([[0.        , 1.        , 0.53333333, 0.        ],\n",
       "       [0.66666667, 0.        , 0.2       , 0.8       ],\n",
       "       [0.26666667, 0.33333333, 0.        , 0.6       ]])"
      ]
     },
     "execution_count": 33,
     "metadata": {},
     "output_type": "execute_result"
    }
   ],
   "source": [
    "datos_norm = (datos_limpios - datos_limpios.min()) / (datos_limpios.max() - datos_limpios.min())\n",
    "datos_norm"
   ]
  },
  {
   "cell_type": "code",
   "execution_count": 37,
   "id": "a9d02563-43b3-43cd-98f6-782ba2cf5b63",
   "metadata": {},
   "outputs": [
    {
     "data": {
      "text/plain": [
       "array([0.31111111, 0.44444444, 0.24444444, 0.46666667])"
      ]
     },
     "execution_count": 37,
     "metadata": {},
     "output_type": "execute_result"
    }
   ],
   "source": [
    "medias = np.mean(datos_norm, axis = 0)\n",
    "medias"
   ]
  },
  {
   "cell_type": "markdown",
   "id": "62b4ae70-afc8-4ed9-a237-d29ef56705a9",
   "metadata": {},
   "source": [
    "### Nivel 4: \"La Cámara Final\"\n",
    "**Escenario**: Has llegado a la cámara que contiene los datos cruciales.\n",
    "\n",
    "**Desafío 4** (10 minutos):\n",
    "```python\n",
    "# Debes reorganizar esta matriz 1D en una matriz 3D\n",
    "# que represente un cubo RGB de 2x2x3\n",
    "datos_finales = np.array([255, 0, 0, 0, 255, 0,\n",
    "                         0, 0, 255, 255, 255, 255])\n",
    "# El resultado debe tener la forma (2, 2, 3)\n",
    "```"
   ]
  },
  {
   "cell_type": "code",
   "execution_count": 39,
   "id": "c2d4067c-6570-45d5-9bb8-24d433d1cc27",
   "metadata": {},
   "outputs": [],
   "source": [
    "datos_finales = np.array([\n",
    "    255, 0, 0,   # Rojo\n",
    "    0, 255, 0,   # Verde\n",
    "    0, 0, 255,   # Azul\n",
    "    255, 255, 255\n",
    "])"
   ]
  },
  {
   "cell_type": "code",
   "execution_count": 41,
   "id": "372a1177-5aae-4032-97a5-20ab5efb6258",
   "metadata": {},
   "outputs": [
    {
     "name": "stdout",
     "output_type": "stream",
     "text": [
      "[[[255   0   0]\n",
      "  [  0 255   0]]\n",
      "\n",
      " [[  0   0 255]\n",
      "  [255 255 255]]]\n"
     ]
    }
   ],
   "source": [
    "colores_rgb = datos_finales.reshape(2,2,3)\n",
    "print(colores_rgb)"
   ]
  },
  {
   "cell_type": "code",
   "execution_count": 49,
   "id": "8cb5c9cc-a826-435c-83e2-31e7c6194ac6",
   "metadata": {},
   "outputs": [
    {
     "data": {
      "text/plain": [
       "array([[[ 1,  2],\n",
       "        [ 3,  4],\n",
       "        [ 5,  6]],\n",
       "\n",
       "       [[ 7,  8],\n",
       "        [ 9, 10],\n",
       "        [11, 12]],\n",
       "\n",
       "       [[13, 14],\n",
       "        [15, 16],\n",
       "        [17, 18]]])"
      ]
     },
     "execution_count": 49,
     "metadata": {},
     "output_type": "execute_result"
    }
   ],
   "source": [
    "numeros = np.array([1,2,3,4,5,6,7,8,9,10,11,12,13,14,15,16,17,18])\n",
    "num = numeros.reshape(3,3,2)\n",
    "num"
   ]
  },
  {
   "cell_type": "markdown",
   "id": "20f92632-71be-4bb5-8876-a7625599c73c",
   "metadata": {},
   "source": [
    "##### Sistema de Puntuación\n",
    "- Completar sin pistas: 100 puntos por nivel\n",
    "- Usar primera pista: -20 puntos\n",
    "- Usar segunda pista: -20 puntos adicionales\n",
    "- Tiempo restante: +1 punto por minuto\n"
   ]
  }
 ],
 "metadata": {
  "kernelspec": {
   "display_name": "Python [conda env:base] *",
   "language": "python",
   "name": "conda-base-py"
  },
  "language_info": {
   "codemirror_mode": {
    "name": "ipython",
    "version": 3
   },
   "file_extension": ".py",
   "mimetype": "text/x-python",
   "name": "python",
   "nbconvert_exporter": "python",
   "pygments_lexer": "ipython3",
   "version": "3.12.7"
  }
 },
 "nbformat": 4,
 "nbformat_minor": 5
}
