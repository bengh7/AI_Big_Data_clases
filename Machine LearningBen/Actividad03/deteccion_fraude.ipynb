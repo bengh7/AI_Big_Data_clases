{
 "cells": [
  {
   "cell_type": "code",
   "execution_count": 3,
   "metadata": {},
   "outputs": [],
   "source": [
    "import pandas as pd\n",
    "from sklearn.datasets import make_classification #para datos simulados\n",
    "from sklearn.model_selection import train_test_split # para dividir los datos\n",
    "from sklearn.ensemble import RandomForestClassifier # para el modelo\n",
    "from sklearn.metrics import accuracy_score, precision_score, recall_score\n",
    "import matplotlib.pyplot as plt #para graficar\n",
    "import seaborn as sns #para crear las visualizaciones\n",
    "\n",
    "\n"
   ]
  },
  {
   "cell_type": "code",
   "execution_count": 12,
   "metadata": {},
   "outputs": [
    {
     "name": "stdout",
     "output_type": "stream",
     "text": [
      "Precision: 1.0\n",
      "Precision: 1.0\n",
      "Recall: 0.7222222222222222\n",
      "Accuracy: 0.9833333333333333\n"
     ]
    }
   ],
   "source": [
    "#Crear el conjunto de datos\n",
    "X, y =make_classification(\n",
    "    n_samples=1000,\n",
    "    n_features=20,\n",
    "    n_informative=2,\n",
    "    n_redundant=10,\n",
    "    weights=[0.95, 0.05],\n",
    "    flip_y=0,\n",
    "    n_classes=2,\n",
    "    random_state=42\n",
    "    )\n",
    "\n",
    "#dividir el conjunto de datos en entrenamiento y prueba\n",
    "X_train, X_test, y_train, y_test = train_test_split(X, y, test_size=0.3, random_state=42)\n",
    "\n",
    "\n",
    "#Crear el modelo de bosque aleatorio\n",
    "model = RandomForestClassifier(n_estimators= 100, random_state=42)\n",
    "\n",
    "#Entrenar el modelo\n",
    "model.fit(X_train, y_train)\n",
    "\n",
    "#Hacer predicciones en el conjunto de prueba\n",
    "y_pred = model.predict(X_test)\n",
    "\n",
    "#calcular la precision\n",
    "precision = precision_score(y_test, y_pred)\n",
    "print(f'Precision: {precision}')\n",
    "\n",
    "# calcular recall\n",
    "recall = recall_score(y_test, y_pred)\n",
    "\n",
    "#calcular la exactitud del modelo\n",
    "accuracy = accuracy_score(y_test, y_pred)\n",
    "\n",
    "#imprimir las métricas\n",
    "print(f'Precision: {precision}')\n",
    "print(f'Recall: {recall}')\n",
    "print(f'Accuracy: {accuracy}')"
   ]
  },
  {
   "cell_type": "markdown",
   "metadata": {},
   "source": [
    "Estamos perdiendo muchos casos de verdaderos positivos segun el recall, un 28%\n",
    "vamos a mejorar el randomForest para intentar corregirlo, e incuso considerar otro modelo"
   ]
  }
 ],
 "metadata": {
  "kernelspec": {
   "display_name": "python",
   "language": "python",
   "name": "python3"
  },
  "language_info": {
   "codemirror_mode": {
    "name": "ipython",
    "version": 3
   },
   "file_extension": ".py",
   "mimetype": "text/x-python",
   "name": "python",
   "nbconvert_exporter": "python",
   "pygments_lexer": "ipython3",
   "version": "3.12.9"
  }
 },
 "nbformat": 4,
 "nbformat_minor": 2
}
