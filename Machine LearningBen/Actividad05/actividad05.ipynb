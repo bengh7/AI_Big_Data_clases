{
 "cells": [
  {
   "cell_type": "markdown",
   "metadata": {},
   "source": [
    "###05 Ejercicio clasificación de árboles dedecisión para flores Iris\n",
    "\n",
    "#Ejemplo de clasificación de árboles de decisión para flores Iris. En este\n",
    "caso, usa X, y = load_iris(return_X_y=_True) para cargar los datos de Iris y\n",
    "devuelve los datos con X e y, usando las cuatro características de los datos.\n",
    "Luego divide los datos en el conjunto de entrenamiento y el conjunto de\n",
    "prueba. Luego entrena el modelo clasificador del árbol de decisión y haz\n",
    "predicciones en el conjunto de prueba. También calcula y muestra el número\n",
    "total de puntos, así como el número de puntos que se pronosticaron\n",
    "correctamente."
   ]
  },
  {
   "cell_type": "code",
   "execution_count": null,
   "metadata": {
    "vscode": {
     "languageId": "plaintext"
    }
   },
   "outputs": [],
   "source": []
  }
 ],
 "metadata": {
  "language_info": {
   "name": "python"
  }
 },
 "nbformat": 4,
 "nbformat_minor": 2
}
