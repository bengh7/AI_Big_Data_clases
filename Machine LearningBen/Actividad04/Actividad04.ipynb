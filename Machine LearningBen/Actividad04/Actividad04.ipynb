{
 "cells": [
  {
   "cell_type": "code",
   "execution_count": null,
   "metadata": {},
   "outputs": [],
   "source": [
    "##Cargando los datos de cáncer de mama de la librería Sckit-learn\n",
    "from sklearn.datasets import load_breast_cancer\n"
   ]
  },
  {
   "cell_type": "code",
   "execution_count": null,
   "metadata": {},
   "outputs": [
    {
     "name": "stdout",
     "output_type": "stream",
     "text": [
      "['mean radius' 'mean texture' 'mean perimeter' 'mean area'\n",
      " 'mean smoothness' 'mean compactness' 'mean concavity'\n",
      " 'mean concave points' 'mean symmetry' 'mean fractal dimension'\n",
      " 'radius error' 'texture error' 'perimeter error' 'area error'\n",
      " 'smoothness error' 'compactness error' 'concavity error'\n",
      " 'concave points error' 'symmetry error' 'fractal dimension error'\n",
      " 'worst radius' 'worst texture' 'worst perimeter' 'worst area'\n",
      " 'worst smoothness' 'worst compactness' 'worst concavity'\n",
      " 'worst concave points' 'worst symmetry' 'worst fractal dimension']\n",
      "[[1.799e+01 1.038e+01 1.228e+02 ... 2.654e-01 4.601e-01 1.189e-01]\n",
      " [2.057e+01 1.777e+01 1.329e+02 ... 1.860e-01 2.750e-01 8.902e-02]\n",
      " [1.969e+01 2.125e+01 1.300e+02 ... 2.430e-01 3.613e-01 8.758e-02]\n",
      " ...\n",
      " [1.660e+01 2.808e+01 1.083e+02 ... 1.418e-01 2.218e-01 7.820e-02]\n",
      " [2.060e+01 2.933e+01 1.401e+02 ... 2.650e-01 4.087e-01 1.240e-01]\n",
      " [7.760e+00 2.454e+01 4.792e+01 ... 0.000e+00 2.871e-01 7.039e-02]]\n",
      "['malignant' 'benign']\n",
      "[[1.799e+01 1.038e+01 1.228e+02 ... 2.654e-01 4.601e-01 1.189e-01]\n",
      " [2.057e+01 1.777e+01 1.329e+02 ... 1.860e-01 2.750e-01 8.902e-02]\n",
      " [1.969e+01 2.125e+01 1.300e+02 ... 2.430e-01 3.613e-01 8.758e-02]\n",
      " ...\n",
      " [1.660e+01 2.808e+01 1.083e+02 ... 1.418e-01 2.218e-01 7.820e-02]\n",
      " [2.060e+01 2.933e+01 1.401e+02 ... 2.650e-01 4.087e-01 1.240e-01]\n",
      " [7.760e+00 2.454e+01 4.792e+01 ... 0.000e+00 2.871e-01 7.039e-02]]\n",
      "['malignant' 'benign']\n"
     ]
    }
   ],
   "source": [
    "\n",
    "cancer = load_breast_cancer()\n",
    "print (cancer['feature_names']) # cada característica es un tipo de medida com, tamaño, radio, textura, suavidad\n",
    "print (cancer['data']) #los valores de cada característica del conjunto de datos de cáncer de mama\n",
    "\n",
    "\n",
    "print (cancer.target_names)\n",
    "\n",
    "print (cancer['data'])\n",
    "## Los valores de cada característica del conjunto de datos de cáncer de mama\n",
    "\n",
    "print (cancer.target_names)\n",
    "## Hay 2 clases, maligno o benigno"
   ]
  },
  {
   "cell_type": "markdown",
   "metadata": {},
   "source": [
    "Muestra un ejemplo de clasificación de SVM (Support Vector Machines) para el cáncer\n",
    "de mama. Primero carga la función load_breast_cancer() de los datos de cáncer de\n",
    "mama y luego coloca los datos en un formato DataFrame, utiliza los datos de\n",
    "características como X y el objetivo con¡mo Y, y utiliza traint_test_split() para dividir X e\n",
    "y en conjuntos de entrenamiento y prueba. Específicamente, el 80% de datos son para\n",
    "entrenamiento y el 20% para pruebas. Utiliza los datos de entrenamiento X_train e\n",
    "y_train para entrenar el SVM y usa los datos de prueba X_test para predicciones.\n",
    "Finalmente, imprime la matriz de confusión y el informe de clasificación."
   ]
  },
  {
   "cell_type": "code",
   "execution_count": 12,
   "metadata": {},
   "outputs": [
    {
     "ename": "SyntaxError",
     "evalue": "positional argument follows keyword argument (674811391.py, line 32)",
     "output_type": "error",
     "traceback": [
      "\u001b[1;36m  Cell \u001b[1;32mIn[12], line 32\u001b[1;36m\u001b[0m\n\u001b[1;33m    columns['predicted_cancer', 'predicted_healthy'])\u001b[0m\n\u001b[1;37m                                                    ^\u001b[0m\n\u001b[1;31mSyntaxError\u001b[0m\u001b[1;31m:\u001b[0m positional argument follows keyword argument\n"
     ]
    }
   ],
   "source": [
    "#importamos librerias necesarias\n",
    "import pandas as pd\n",
    "import numpy as np\n",
    "from sklearn.svm import SVC\n",
    "from sklearn.model_selection import train_test_split\n",
    "from sklearn.metrics import confusion_matrix, classification_report\n",
    "\n",
    "print(\"\\nForma de los datos\", cancer.data.shape)\n",
    "\n",
    "#imprimir las primeras filas de los datos\n",
    "print(\"\\n\", cancer.data[0:5])\n",
    "\n",
    "\n",
    "\n",
    "#imprimier las primeras etiquetas de los datos\n",
    "print(\"\\n\", cancer.target)\n",
    "\n",
    "X = cancer.data #todas las caracteristicas\n",
    "y = cancer.target #todas las etiquetas\n",
    "\n",
    "X_train, X_test, y_train, y_test = train_test_split(X, y, test_size=0.20)\n",
    "\n",
    "clf = SVC()\n",
    "clf.fit(X_train, y_train)\n",
    "\n",
    "#Realizar predicciones\n",
    "predictions = clf.predict(X_test)\n",
    "\n",
    "#imprimir matriz de confusion y reporte de clasificacion\n",
    "cm = np.array(confusion_matrix(y_test, predictions, labels=[0,1]))\n",
    "confusion = pd.DataFrame(cm, index=['es_cancer', 'esta sano'], \n",
    "                         columns['predicted_cancer', 'predicted_healthy'])\n",
    "\n",
    "print(\"\\nmatriz de confusion\\n\", confusion )\n",
    "                         \n",
    "                         "
   ]
  }
 ],
 "metadata": {
  "kernelspec": {
   "display_name": "python",
   "language": "python",
   "name": "python3"
  },
  "language_info": {
   "codemirror_mode": {
    "name": "ipython",
    "version": 3
   },
   "file_extension": ".py",
   "mimetype": "text/x-python",
   "name": "python",
   "nbconvert_exporter": "python",
   "pygments_lexer": "ipython3",
   "version": "3.12.9"
  }
 },
 "nbformat": 4,
 "nbformat_minor": 2
}
