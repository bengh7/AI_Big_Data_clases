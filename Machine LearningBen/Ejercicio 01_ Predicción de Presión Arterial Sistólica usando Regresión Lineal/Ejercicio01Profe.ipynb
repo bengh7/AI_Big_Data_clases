{
 "cells": [
  {
   "cell_type": "code",
   "execution_count": null,
   "metadata": {
    "vscode": {
     "languageId": "plaintext"
    }
   },
   "outputs": [],
   "source": []
  },
  {
   "cell_type": "markdown",
   "metadata": {},
   "source": []
  },
  {
   "cell_type": "code",
   "execution_count": null,
   "metadata": {
    "vscode": {
     "languageId": "plaintext"
    }
   },
   "outputs": [],
   "source": [
    "#punto 4 del profe\n",
    "\n",
    "'''. Regresión Lineal Múltiple:\n",
    "○ Construye un modelo de regresión múltiple usando edad, imc y\n",
    "colesterol como predictores.\n",
    "○ Realiza el mismo procedimiento de división de datos,\n",
    "entrenamiento, predicción y evaluación.\n",
    "○ Obtén y analiza los coeficientes de cada variable'''\n",
    "\n",
    "#Regresion lineal multiple\n",
    "\n",
    "X_multi = df[predictores]   \n",
    "y = df[\"pa_sistolica\"]\n",
    "\n",
    "#dividimos\n",
    "X_train_multi, X_test_multi, y_train, y_test = train_test_split(X_multi, y, test_size=0.3, random_state=42)\n",
    "\n",
    "#creamos y entrenamos el modelo\n",
    "model_multi = LinearRegression()\n",
    "model_multi.fit(X_train_multi, y_train)\n",
    "\n",
    "#realizamos las predicciones\n",
    "y_pred_multi = model_multi.predict(X_test)  \n",
    "\n",
    "#evaluamos el modelo\n",
    "mse_multi = mean_squared_error(y_test, y_pred_multi)\n",
    "r2_multi = r2_score(y_test, y_pred_multi)\n",
    "\n",
    "print(f\"\\nResultados de regresion múltiple: {mse_multi:.2f}\")\n",
    "print(f'MSE: {mse_multi:.2f}')\n",
    "print(f'R: {r2_multi:.4f}')\n",
    "print('Coeficientes:')\n",
    "for i, predictor in enumerate(predictores):\n",
    "    print(f\"-{predictor}: {model_multi.coef_[i]:.4f}\")\n",
    "\n",
    "print(f'Intercepto: {model_multi.intercept_:.4f}')\n"
   ]
  }
 ],
 "metadata": {
  "language_info": {
   "name": "python"
  }
 },
 "nbformat": 4,
 "nbformat_minor": 2
}
