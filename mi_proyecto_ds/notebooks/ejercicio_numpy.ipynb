{
 "cells": [
  {
   "cell_type": "code",
   "execution_count": 1,
   "id": "96413963-2627-408d-8a69-cdca6138d838",
   "metadata": {},
   "outputs": [
    {
     "name": "stdout",
     "output_type": "stream",
     "text": [
      "Array creado: (1000, 5)\n",
      "Datos guardados en: /home/jovyan/results/mi_array.npy\n",
      "Datos cargados correctamente: True\n",
      "\n",
      "Estadísticas del dataset:\n",
      "Media por columna: [-0.00302031  0.01322044 -0.04763242  0.02210728 -0.01716301]\n",
      "Desviación estándar: [0.99608441 1.00945429 0.99398068 0.97390899 1.02651226]\n"
     ]
    }
   ],
   "source": [
    "import numpy as np\n",
    "import os\n",
    "\n",
    "# Crear un directorio para resultados si no existe\n",
    "os.makedirs('/home/jovyan/results', exist_ok=True)\n",
    "\n",
    "# Crear datos de ejemplo con NumPy\n",
    "datos = np.random.randn(1000, 5) # 1000 filas, 5 columnas de números aleatorios\n",
    "print(\"Array creado:\", datos.shape)\n",
    "\n",
    "# Guardar el array en el volumen persistente\n",
    "ruta_archivo = '/home/jovyan/results/mi_array.npy'\n",
    "np.save(ruta_archivo, datos)\n",
    "print(f\"Datos guardados en: {ruta_archivo}\")\n",
    "\n",
    "# Verificar que se guardó correctamente cargándolo de nuevo\n",
    "datos_cargados = np.load(ruta_archivo)\n",
    "print(\"Datos cargados correctamente:\", np.array_equal(datos, datos_cargados))\n",
    "\n",
    "# Mostrar algunas estadísticas básicas\n",
    "print(\"\\nEstadísticas del dataset:\")\n",
    "print(\"Media por columna:\", datos.mean(axis=0))\n",
    "print(\"Desviación estándar:\", datos.std(axis=0))\n",
    "\n"
   ]
  },
  {
   "cell_type": "code",
   "execution_count": null,
   "id": "1be661c7-71d3-4e0e-9b66-1b9e79d2b02c",
   "metadata": {},
   "outputs": [],
   "source": []
  }
 ],
 "metadata": {
  "kernelspec": {
   "display_name": "Python 3 (ipykernel)",
   "language": "python",
   "name": "python3"
  },
  "language_info": {
   "codemirror_mode": {
    "name": "ipython",
    "version": 3
   },
   "file_extension": ".py",
   "mimetype": "text/x-python",
   "name": "python",
   "nbconvert_exporter": "python",
   "pygments_lexer": "ipython3",
   "version": "3.11.6"
  }
 },
 "nbformat": 4,
 "nbformat_minor": 5
}
