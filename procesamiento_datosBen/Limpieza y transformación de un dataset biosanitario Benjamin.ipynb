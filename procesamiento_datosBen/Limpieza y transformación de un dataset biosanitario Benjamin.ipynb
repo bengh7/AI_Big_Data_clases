{
 "cells": [
  {
   "cell_type": "markdown",
   "id": "7f1aa1a4-1fea-4fc2-842c-2484e2e1c52c",
   "metadata": {},
   "source": [
    "Ejercicio práctico: Limpieza y transformación de un dataset biosanitario\n",
    "\n",
    "Tema 3: Aplicación de aspectos avanzados de procesamiento de datos en Python\n",
    "\n",
    "Objetivo práctico: Aplicar técnicas de limpieza y preprocesamiento de datos\n",
    "para preparar un conjunto de datos para su análisis."
   ]
  },
  {
   "cell_type": "markdown",
   "id": "79e40865-9480-43e2-a570-58d15dd8203e",
   "metadata": {},
   "source": [
    "Descripción\n",
    "En este ejercicio, vais a trabajar con un conjunto de datos sintéticos\n",
    "biosanitarios contenido en un único archivo CSV titulado\n",
    "pacientes_sintetico.csv. Este dataset simula registros de pacientes con\n",
    "columnas como edad, presión arterial, niveles de colesterol y frecuencia\n",
    "cardíaca máxima. El archivo ha sido diseñado para incluir imperfecciones\n",
    "comunes: valores nulos, duplicados y columnas numéricas que necesitan\n",
    "normalización."
   ]
  },
  {
   "cell_type": "markdown",
   "id": "56c121f1-7609-4a4b-a602-fa79ed68c2e9",
   "metadata": {},
   "source": [
    "Vuestra tarea consiste en usar este archivo CSV y realizar las siguientes\n",
    "actividades utilizando Python y bibliotecas como pandas, numpy y sklearn:"
   ]
  },
  {
   "cell_type": "markdown",
   "id": "e395d936-8cc2-4873-9e20-6602662612c2",
   "metadata": {},
   "source": [
    "1. Imputar valores nulos:\n",
    "Identificad las columnas con valores faltantes (por ejemplo,\n",
    "\"colesterol\" o \"presión arterial\") y rellenadlos utilizando el promedio\n",
    "(para datos continuos) o la mediana (para datos con distribuciones no\n",
    "uniformes).\n"
   ]
  },
  {
   "cell_type": "code",
   "execution_count": 21,
   "id": "c3ce4a04-2ad7-4cf6-8290-c45c23af4000",
   "metadata": {},
   "outputs": [],
   "source": [
    "#importamos librerías a utilizar\n",
    "import pandas as pd\n",
    "import matplotlib.pyplot as plt\n",
    "import seaborn as sns\n",
    "import numpy as np\n",
    "from sklearn.preprocessing import StandardScaler, MinMaxScaler  # Para normalización de datos\n",
    "from sklearn.impute import SimpleImputer  # Para manejar valores faltantes\n",
    "from sklearn.preprocessing import LabelEncoder  # Para codificar variables categóricas\n",
    "\n",
    "# Configurar el estilo de las gráficas para mejor visualización\n",
    "plt.style.use('seaborn-v0_8-whitegrid')  # Aplicar estilo seaborn para gráficos más atractivos\n",
    "\n",
    "# Cargar los datos generados \"pacientes_sintetico.csv\"\n",
    "pacientes_df = pd.read_csv('pacientes_sintetico.csv')\n"
   ]
  },
  {
   "cell_type": "code",
   "execution_count": 35,
   "id": "85517e00-f22e-4180-833e-acb6c7c50c12",
   "metadata": {},
   "outputs": [
    {
     "name": "stdout",
     "output_type": "stream",
     "text": [
      "Imprimir el dataset\n",
      "(5000, 6)\n"
     ]
    }
   ],
   "source": [
    "# Lectura\n",
    "ruta = \"pacientes_sintetico.csv\"\n",
    "data = pd.read_csv(ruta)\n",
    "print('Imprimir el dataset')\n",
    "print(pacientes_df.shape)\n"
   ]
  },
  {
   "cell_type": "code",
   "execution_count": 37,
   "id": "f0226a3b-0464-47f7-904b-d3dbf18c388d",
   "metadata": {},
   "outputs": [
    {
     "name": "stdout",
     "output_type": "stream",
     "text": [
      "(5050, 5)\n"
     ]
    },
    {
     "data": {
      "text/html": [
       "<div>\n",
       "<style scoped>\n",
       "    .dataframe tbody tr th:only-of-type {\n",
       "        vertical-align: middle;\n",
       "    }\n",
       "\n",
       "    .dataframe tbody tr th {\n",
       "        vertical-align: top;\n",
       "    }\n",
       "\n",
       "    .dataframe thead th {\n",
       "        text-align: right;\n",
       "    }\n",
       "</style>\n",
       "<table border=\"1\" class=\"dataframe\">\n",
       "  <thead>\n",
       "    <tr style=\"text-align: right;\">\n",
       "      <th></th>\n",
       "      <th>id_paciente</th>\n",
       "      <th>edad</th>\n",
       "      <th>presion_arterial</th>\n",
       "      <th>colesterol</th>\n",
       "      <th>frec_cardiaca_max</th>\n",
       "    </tr>\n",
       "  </thead>\n",
       "  <tbody>\n",
       "    <tr>\n",
       "      <th>0</th>\n",
       "      <td>1</td>\n",
       "      <td>56</td>\n",
       "      <td>74.7</td>\n",
       "      <td>245.5</td>\n",
       "      <td>106</td>\n",
       "    </tr>\n",
       "    <tr>\n",
       "      <th>1</th>\n",
       "      <td>2</td>\n",
       "      <td>69</td>\n",
       "      <td>122.8</td>\n",
       "      <td>216.0</td>\n",
       "      <td>64</td>\n",
       "    </tr>\n",
       "    <tr>\n",
       "      <th>2</th>\n",
       "      <td>3</td>\n",
       "      <td>46</td>\n",
       "      <td>147.0</td>\n",
       "      <td>212.4</td>\n",
       "      <td>121</td>\n",
       "    </tr>\n",
       "    <tr>\n",
       "      <th>3</th>\n",
       "      <td>4</td>\n",
       "      <td>32</td>\n",
       "      <td>NaN</td>\n",
       "      <td>154.9</td>\n",
       "      <td>143</td>\n",
       "    </tr>\n",
       "    <tr>\n",
       "      <th>4</th>\n",
       "      <td>5</td>\n",
       "      <td>60</td>\n",
       "      <td>123.1</td>\n",
       "      <td>153.7</td>\n",
       "      <td>192</td>\n",
       "    </tr>\n",
       "  </tbody>\n",
       "</table>\n",
       "</div>"
      ],
      "text/plain": [
       "   id_paciente  edad  presion_arterial  colesterol  frec_cardiaca_max\n",
       "0            1    56              74.7       245.5                106\n",
       "1            2    69             122.8       216.0                 64\n",
       "2            3    46             147.0       212.4                121\n",
       "3            4    32               NaN       154.9                143\n",
       "4            5    60             123.1       153.7                192"
      ]
     },
     "execution_count": 37,
     "metadata": {},
     "output_type": "execute_result"
    }
   ],
   "source": [
    "print(data.shape)\n",
    "data.head()"
   ]
  },
  {
   "cell_type": "code",
   "execution_count": 56,
   "id": "e1f7189c-7f76-4e03-abc3-5870d2b0b328",
   "metadata": {},
   "outputs": [
    {
     "name": "stdout",
     "output_type": "stream",
     "text": [
      "información del dataset\n",
      "<class 'pandas.core.frame.DataFrame'>\n",
      "Index: 5000 entries, 0 to 4999\n",
      "Data columns (total 6 columns):\n",
      " #   Column                  Non-Null Count  Dtype  \n",
      "---  ------                  --------------  -----  \n",
      " 0   id_paciente             5000 non-null   int64  \n",
      " 1   edad                    5000 non-null   float64\n",
      " 2   presion_arterial        5000 non-null   float64\n",
      " 3   colesterol              5000 non-null   float64\n",
      " 4   frec_cardiaca_max       5000 non-null   float64\n",
      " 5   colesterol_normalizado  5000 non-null   float64\n",
      "dtypes: float64(5), int64(1)\n",
      "memory usage: 273.4 KB\n",
      "Imprimir la estadistica descriptiva\n"
     ]
    },
    {
     "data": {
      "text/plain": [
       "<bound method NDFrame.describe of       id_paciente  edad  presion_arterial  colesterol  frec_cardiaca_max  \\\n",
       "0               1  56.0              74.7       245.5              106.0   \n",
       "1               2  69.0             122.8       216.0               64.0   \n",
       "2               3  46.0             147.0       212.4              121.0   \n",
       "3               4  32.0             119.5       154.9              143.0   \n",
       "4               5  60.0             123.1       153.7              192.0   \n",
       "...           ...   ...               ...         ...                ...   \n",
       "4995         4996  42.0             120.8       208.5              108.0   \n",
       "4996         4997  39.0             150.7       176.1               91.0   \n",
       "4997         4998  48.0              95.6       221.1               74.0   \n",
       "4998         4999  34.0             111.6       221.9              121.0   \n",
       "4999         5000  72.0             120.5       246.3              137.0   \n",
       "\n",
       "      colesterol_normalizado  \n",
       "0                   0.693151  \n",
       "1                   0.592123  \n",
       "2                   0.579795  \n",
       "3                   0.382877  \n",
       "4                   0.378767  \n",
       "...                      ...  \n",
       "4995                0.566438  \n",
       "4996                0.455479  \n",
       "4997                0.609589  \n",
       "4998                0.612329  \n",
       "4999                0.695890  \n",
       "\n",
       "[5000 rows x 6 columns]>"
      ]
     },
     "execution_count": 56,
     "metadata": {},
     "output_type": "execute_result"
    }
   ],
   "source": [
    "print('información del dataset')\n",
    "pacientes_df.info()\n",
    "print('Imprimir la estadistica descriptiva')\n",
    "pacientes_df.describe"
   ]
  },
  {
   "cell_type": "code",
   "execution_count": 27,
   "id": "92b49768-6bc0-489a-ba90-a78d83b5b3cf",
   "metadata": {},
   "outputs": [
    {
     "name": "stdout",
     "output_type": "stream",
     "text": [
      "\n",
      "\n",
      "=== 1. Limpieza de datos ===\n",
      "\n",
      "Valores faltantes antes de la limpieza:\n",
      "id_paciente            0\n",
      "edad                   0\n",
      "presion_arterial     472\n",
      "colesterol           473\n",
      "frec_cardiaca_max      0\n",
      "dtype: int64\n"
     ]
    },
    {
     "data": {
      "image/png": "[encoded data removed]",
      "text/plain": [
       "<Figure size 600x400 with 2 Axes>"
      ]
     },
     "metadata": {},
     "output_type": "display_data"
    },
    {
     "name": "stdout",
     "output_type": "stream",
     "text": [
      "\n",
      "=== Valores faltantes después de la limpieza: ===\n",
      "id_paciente          0\n",
      "edad                 0\n",
      "presion_arterial     0\n",
      "colesterol           0\n",
      "frec_cardiaca_max    0\n",
      "dtype: int64\n"
     ]
    }
   ],
   "source": [
    "# 1. Limpieza de datos: Manejo de valores faltantes\n",
    "print(\"\\n\\n=== 1. Limpieza de datos ===\")\n",
    "print(\"\\nValores faltantes antes de la limpieza:\")\n",
    "print(pacientes_df.isnull().sum())\n",
    "\n",
    "# Crear visualización de matriz de correlación con datos faltantes\n",
    "plt.figure(figsize=(6, 4))\n",
    "sns.heatmap(pacientes_df.isnull(), cmap='YlOrRd', cbar_kws={'label':'Valor faltante'}) \n",
    "\n",
    "#se le da 3 parametros a sns.heatmap, el primero es el pacientes_de.isnull, 2 los colores y 3 las etiquetas¿?\n",
    "plt.title('Distribución datos faltantes')\n",
    "plt.show()\n",
    "\n",
    "    \n",
    "# Imputación de valores faltantes usando la mediana para mediciones numéricas\n",
    "imputer = SimpleImputer(strategy= 'median') #sustituimos los valores nulos por la media\n",
    "\n",
    "columnas_numericas = ['edad', 'presion_arterial', 'colesterol' , 'frec_cardiaca_max']\n",
    "#aplicamos la imputacion a las columnas numéricas, reemplazo de los valores faltantes\n",
    "pacientes_df[columnas_numericas] = imputer.fit_transform(pacientes_df[columnas_numericas])\n",
    "\n",
    "\n",
    "\n",
    "#imprimimos el resultado\n",
    "print(\"\\n=== Valores faltantes después de la limpieza: ===\")\n",
    "\n",
    "print(pacientes_df.isnull().sum())\n"
   ]
  },
  {
   "cell_type": "code",
   "execution_count": null,
   "id": "ec0ab5f0-d486-44ea-b3f0-8e569635407b",
   "metadata": {},
   "outputs": [],
   "source": []
  },
  {
   "cell_type": "code",
   "execution_count": null,
   "id": "79950138-0209-430d-804e-0c5743ca49d3",
   "metadata": {},
   "outputs": [],
   "source": []
  },
  {
   "cell_type": "markdown",
   "id": "2c237657-8362-4f90-a290-340bfb3d69e1",
   "metadata": {},
   "source": [
    "2. Eliminar duplicados:\n",
    "Buscad y eliminad cualquier fila duplicada en el dataset para asegurar\n",
    "que cada paciente esté representado una sola vez.\n"
   ]
  },
  {
   "cell_type": "code",
   "execution_count": 30,
   "id": "b5f85f3f-0ac5-4f39-be15-7689aa8ee4c7",
   "metadata": {},
   "outputs": [
    {
     "name": "stdout",
     "output_type": "stream",
     "text": [
      "\n",
      "\n",
      "=== 2. Eliminación de duplicados ===\n",
      "Filas duplicadas antes de la eliminación: 50\n",
      "Filas duplicadas después de la eliminación: 0\n"
     ]
    }
   ],
   "source": [
    "# 2. Eliminación de duplicados\n",
    "print(\"\\n\\n=== 2. Eliminación de duplicados ===\")\n",
    "\n",
    "# Contar cuántos duplicados hay antes de eliminarlos\n",
    "duplicados_antes = pacientes_df.duplicated().sum()\n",
    "print(f\"Filas duplicadas antes de la eliminación: {duplicados_antes}\")\n",
    "\n",
    "# Eliminar duplicados\n",
    "pacientes_df = pacientes_df.drop_duplicates()\n",
    "\n",
    "# Contar cuántos duplicados quedan después de eliminarlos\n",
    "duplicados_despues = pacientes_df.duplicated().sum()\n",
    "print(f\"Filas duplicadas después de la eliminación: {duplicados_despues}\")"
   ]
  },
  {
   "cell_type": "markdown",
   "id": "492f7960-d83c-4e0b-a8bc-4174dadf25e9",
   "metadata": {},
   "source": [
    "3. Normalizar una columna numérica:\n",
    "Elegid una columna numérica del CSV (como \"edad\" o \"colesterol\") y\n",
    "aplicad la técnica de min-max scaling para escalar sus valores al rango\n",
    "[0, 1]."
   ]
  },
  {
   "cell_type": "code",
   "execution_count": 49,
   "id": "7778420d-8864-4754-9811-75a064c8898f",
   "metadata": {},
   "outputs": [
    {
     "name": "stdout",
     "output_type": "stream",
     "text": [
      "\n",
      " Mostramos los valores originales y normalizados de 'colesterol':\n",
      "   colesterol  colesterol_normalizado\n",
      "0       245.5                0.693151\n",
      "1       216.0                0.592123\n",
      "2       212.4                0.579795\n",
      "3       154.9                0.382877\n",
      "4       153.7                0.378767\n",
      "Estadística del Colesterol normalizado\n",
      "count    5000.000000\n",
      "mean        0.535533\n",
      "std         0.131328\n",
      "min         0.000000\n",
      "25%         0.455822\n",
      "50%         0.534932\n",
      "75%         0.617466\n",
      "max         1.000000\n",
      "Name: colesterol_normalizado, dtype: float64\n"
     ]
    }
   ],
   "source": [
    "scaler = MinMaxScaler()\n",
    "\n",
    "# Aplicar Min-Max Scaling a la columna \"colesterol\"\n",
    "pacientes_df['colesterol_normalizado'] = scaler.fit_transform(pacientes_df[['colesterol']])\n",
    "print(\"\\n Mostramos los valores originales y normalizados de 'colesterol':\")\n",
    "print(pacientes_df[[\"colesterol\", \"colesterol_normalizado\"]].head())\n",
    "\n",
    "\n",
    "#estadística despues de la normalización\n",
    "print('Estadística del Colesterol normalizado')\n",
    "print(pacientes_df['colesterol_normalizado'].describe())"
   ]
  },
  {
   "cell_type": "code",
   "execution_count": null,
   "id": "bd200721-f0ea-439f-bd32-bf9bfbf5afed",
   "metadata": {},
   "outputs": [],
   "source": [
    "\n"
   ]
  },
  {
   "cell_type": "code",
   "execution_count": null,
   "id": "0c58bbbe-4523-4b8f-83ae-9753d71c2b10",
   "metadata": {},
   "outputs": [],
   "source": []
  }
 ],
 "metadata": {
  "kernelspec": {
   "display_name": "Python [conda env:base] *",
   "language": "python",
   "name": "conda-base-py"
  },
  "language_info": {
   "codemirror_mode": {
    "name": "ipython",
    "version": 3
   },
   "file_extension": ".py",
   "mimetype": "text/x-python",
   "name": "python",
   "nbconvert_exporter": "python",
   "pygments_lexer": "ipython3",
   "version": "3.12.7"
  }
 },
 "nbformat": 4,
 "nbformat_minor": 5
}
